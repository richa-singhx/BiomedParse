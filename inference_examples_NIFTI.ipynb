{
  "cells": [
    {
      "cell_type": "code",
      "source": [
        "# install dependencies and download dataset\n",
        "!git clone https://github.com/richa-singhx/BiomedParse\n",
        "!pip install -r BiomedParse/assets/requirements/requirements.txt"
      ],
      "metadata": {
        "id": "GVI4415cO4cW",
        "outputId": "8bf857de-ef70-4c9b-c29e-fff5890876cd",
        "colab": {
          "base_uri": "https://localhost:8080/"
        }
      },
      "execution_count": 6,
      "outputs": [
        {
          "output_type": "stream",
          "name": "stdout",
          "text": [
            "Cloning into 'BiomedParse'...\n",
            "remote: Enumerating objects: 853, done.\u001b[K\n",
            "remote: Counting objects: 100% (117/117), done.\u001b[K\n",
            "remote: Compressing objects: 100% (56/56), done.\u001b[K\n",
            "remote: Total 853 (delta 70), reused 61 (delta 61), pack-reused 736 (from 2)\u001b[K\n",
            "Receiving objects: 100% (853/853), 190.12 MiB | 25.31 MiB/s, done.\n",
            "Resolving deltas: 100% (237/237), done.\n",
            "Updating files: 100% (584/584), done.\n",
            "Filtering content: 100% (45/45), 69.68 MiB | 29.19 MiB/s, done.\n",
            "Collecting git+https://github.com/MaureenZOU/detectron2-xyz.git (from -r BiomedParse/assets/requirements/requirements.txt (line 33))\n",
            "  Cloning https://github.com/MaureenZOU/detectron2-xyz.git to /tmp/pip-req-build-mh3ny5_n\n",
            "  Running command git clone --filter=blob:none --quiet https://github.com/MaureenZOU/detectron2-xyz.git /tmp/pip-req-build-mh3ny5_n\n",
            "  Resolved https://github.com/MaureenZOU/detectron2-xyz.git to commit 42121d75e10d9f858f3a91b6a39f5722c02868f0\n",
            "  Preparing metadata (setup.py) ... \u001b[?25l\u001b[?25hdone\n",
            "Requirement already satisfied: pillow in /usr/local/lib/python3.12/dist-packages (from -r BiomedParse/assets/requirements/requirements.txt (line 1)) (11.3.0)\n",
            "Requirement already satisfied: opencv-python in /usr/local/lib/python3.12/dist-packages (from -r BiomedParse/assets/requirements/requirements.txt (line 2)) (4.12.0.88)\n",
            "Requirement already satisfied: pyyaml in /usr/local/lib/python3.12/dist-packages (from -r BiomedParse/assets/requirements/requirements.txt (line 3)) (6.0.2)\n",
            "Requirement already satisfied: json_tricks in /usr/local/lib/python3.12/dist-packages (from -r BiomedParse/assets/requirements/requirements.txt (line 4)) (3.17.3)\n",
            "Requirement already satisfied: yacs in /usr/local/lib/python3.12/dist-packages (from -r BiomedParse/assets/requirements/requirements.txt (line 5)) (0.1.8)\n",
            "Requirement already satisfied: scikit-learn in /usr/local/lib/python3.12/dist-packages (from -r BiomedParse/assets/requirements/requirements.txt (line 6)) (1.6.1)\n",
            "Requirement already satisfied: pandas in /usr/local/lib/python3.12/dist-packages (from -r BiomedParse/assets/requirements/requirements.txt (line 7)) (2.2.2)\n",
            "Requirement already satisfied: timm in /usr/local/lib/python3.12/dist-packages (from -r BiomedParse/assets/requirements/requirements.txt (line 8)) (1.0.19)\n",
            "Requirement already satisfied: numpy in /usr/local/lib/python3.12/dist-packages (from -r BiomedParse/assets/requirements/requirements.txt (line 9)) (2.0.2)\n",
            "Requirement already satisfied: einops in /usr/local/lib/python3.12/dist-packages (from -r BiomedParse/assets/requirements/requirements.txt (line 10)) (0.8.1)\n",
            "Requirement already satisfied: fvcore in /usr/local/lib/python3.12/dist-packages (from -r BiomedParse/assets/requirements/requirements.txt (line 11)) (0.1.5.post20221221)\n",
            "Requirement already satisfied: transformers in /usr/local/lib/python3.12/dist-packages (from -r BiomedParse/assets/requirements/requirements.txt (line 12)) (4.56.1)\n",
            "Requirement already satisfied: sentencepiece in /usr/local/lib/python3.12/dist-packages (from -r BiomedParse/assets/requirements/requirements.txt (line 13)) (0.2.1)\n",
            "Requirement already satisfied: ftfy in /usr/local/lib/python3.12/dist-packages (from -r BiomedParse/assets/requirements/requirements.txt (line 14)) (6.3.1)\n",
            "Requirement already satisfied: regex in /usr/local/lib/python3.12/dist-packages (from -r BiomedParse/assets/requirements/requirements.txt (line 15)) (2024.11.6)\n",
            "Requirement already satisfied: nltk in /usr/local/lib/python3.12/dist-packages (from -r BiomedParse/assets/requirements/requirements.txt (line 16)) (3.9.1)\n",
            "Requirement already satisfied: mpi4py in /usr/local/lib/python3.12/dist-packages (from -r BiomedParse/assets/requirements/requirements.txt (line 17)) (4.1.0)\n",
            "Requirement already satisfied: vision-datasets in /usr/local/lib/python3.12/dist-packages (from -r BiomedParse/assets/requirements/requirements.txt (line 18)) (1.0.21)\n",
            "Requirement already satisfied: cython in /usr/local/lib/python3.12/dist-packages (from -r BiomedParse/assets/requirements/requirements.txt (line 19)) (3.0.12)\n",
            "Requirement already satisfied: pycocotools in /usr/local/lib/python3.12/dist-packages (from -r BiomedParse/assets/requirements/requirements.txt (line 20)) (2.0.10)\n",
            "Requirement already satisfied: diffdist in /usr/local/lib/python3.12/dist-packages (from -r BiomedParse/assets/requirements/requirements.txt (line 21)) (0.1)\n",
            "Requirement already satisfied: scikit-image in /usr/local/lib/python3.12/dist-packages (from -r BiomedParse/assets/requirements/requirements.txt (line 25)) (0.25.2)\n",
            "Requirement already satisfied: mup in /usr/local/lib/python3.12/dist-packages (from -r BiomedParse/assets/requirements/requirements.txt (line 26)) (1.0.0)\n",
            "Requirement already satisfied: accelerate in /usr/local/lib/python3.12/dist-packages (from -r BiomedParse/assets/requirements/requirements.txt (line 27)) (1.10.1)\n",
            "Requirement already satisfied: kornia in /usr/local/lib/python3.12/dist-packages (from -r BiomedParse/assets/requirements/requirements.txt (line 28)) (0.8.1)\n",
            "Requirement already satisfied: deepspeed in /usr/local/lib/python3.12/dist-packages (from -r BiomedParse/assets/requirements/requirements.txt (line 29)) (0.17.6)\n",
            "Requirement already satisfied: infinibatch in /usr/local/lib/python3.12/dist-packages (from -r BiomedParse/assets/requirements/requirements.txt (line 31)) (0.1.1)\n",
            "Requirement already satisfied: open-clip-torch in /usr/local/lib/python3.12/dist-packages (from -r BiomedParse/assets/requirements/requirements.txt (line 32)) (3.1.0)\n",
            "Requirement already satisfied: scipy>=1.6.0 in /usr/local/lib/python3.12/dist-packages (from scikit-learn->-r BiomedParse/assets/requirements/requirements.txt (line 6)) (1.16.1)\n",
            "Requirement already satisfied: joblib>=1.2.0 in /usr/local/lib/python3.12/dist-packages (from scikit-learn->-r BiomedParse/assets/requirements/requirements.txt (line 6)) (1.5.2)\n",
            "Requirement already satisfied: threadpoolctl>=3.1.0 in /usr/local/lib/python3.12/dist-packages (from scikit-learn->-r BiomedParse/assets/requirements/requirements.txt (line 6)) (3.6.0)\n",
            "Requirement already satisfied: python-dateutil>=2.8.2 in /usr/local/lib/python3.12/dist-packages (from pandas->-r BiomedParse/assets/requirements/requirements.txt (line 7)) (2.9.0.post0)\n",
            "Requirement already satisfied: pytz>=2020.1 in /usr/local/lib/python3.12/dist-packages (from pandas->-r BiomedParse/assets/requirements/requirements.txt (line 7)) (2025.2)\n",
            "Requirement already satisfied: tzdata>=2022.7 in /usr/local/lib/python3.12/dist-packages (from pandas->-r BiomedParse/assets/requirements/requirements.txt (line 7)) (2025.2)\n",
            "Requirement already satisfied: torch in /usr/local/lib/python3.12/dist-packages (from timm->-r BiomedParse/assets/requirements/requirements.txt (line 8)) (2.8.0+cu126)\n",
            "Requirement already satisfied: torchvision in /usr/local/lib/python3.12/dist-packages (from timm->-r BiomedParse/assets/requirements/requirements.txt (line 8)) (0.23.0+cu126)\n",
            "Requirement already satisfied: huggingface_hub in /usr/local/lib/python3.12/dist-packages (from timm->-r BiomedParse/assets/requirements/requirements.txt (line 8)) (0.34.4)\n",
            "Requirement already satisfied: safetensors in /usr/local/lib/python3.12/dist-packages (from timm->-r BiomedParse/assets/requirements/requirements.txt (line 8)) (0.6.2)\n",
            "Requirement already satisfied: tqdm in /usr/local/lib/python3.12/dist-packages (from fvcore->-r BiomedParse/assets/requirements/requirements.txt (line 11)) (4.67.1)\n",
            "Requirement already satisfied: termcolor>=1.1 in /usr/local/lib/python3.12/dist-packages (from fvcore->-r BiomedParse/assets/requirements/requirements.txt (line 11)) (3.1.0)\n",
            "Requirement already satisfied: tabulate in /usr/local/lib/python3.12/dist-packages (from fvcore->-r BiomedParse/assets/requirements/requirements.txt (line 11)) (0.9.0)\n",
            "Requirement already satisfied: iopath>=0.1.7 in /usr/local/lib/python3.12/dist-packages (from fvcore->-r BiomedParse/assets/requirements/requirements.txt (line 11)) (0.1.9)\n",
            "Requirement already satisfied: filelock in /usr/local/lib/python3.12/dist-packages (from transformers->-r BiomedParse/assets/requirements/requirements.txt (line 12)) (3.19.1)\n",
            "Requirement already satisfied: packaging>=20.0 in /usr/local/lib/python3.12/dist-packages (from transformers->-r BiomedParse/assets/requirements/requirements.txt (line 12)) (25.0)\n",
            "Requirement already satisfied: requests in /usr/local/lib/python3.12/dist-packages (from transformers->-r BiomedParse/assets/requirements/requirements.txt (line 12)) (2.32.4)\n",
            "Requirement already satisfied: tokenizers<=0.23.0,>=0.22.0 in /usr/local/lib/python3.12/dist-packages (from transformers->-r BiomedParse/assets/requirements/requirements.txt (line 12)) (0.22.0)\n",
            "Requirement already satisfied: wcwidth in /usr/local/lib/python3.12/dist-packages (from ftfy->-r BiomedParse/assets/requirements/requirements.txt (line 14)) (0.2.13)\n",
            "Requirement already satisfied: click in /usr/local/lib/python3.12/dist-packages (from nltk->-r BiomedParse/assets/requirements/requirements.txt (line 16)) (8.2.1)\n",
            "Requirement already satisfied: azure-identity in /usr/local/lib/python3.12/dist-packages (from vision-datasets->-r BiomedParse/assets/requirements/requirements.txt (line 18)) (1.25.0)\n",
            "Requirement already satisfied: azure-storage-blob in /usr/local/lib/python3.12/dist-packages (from vision-datasets->-r BiomedParse/assets/requirements/requirements.txt (line 18)) (12.26.0)\n",
            "Requirement already satisfied: tenacity>=6.2.0 in /usr/local/lib/python3.12/dist-packages (from vision-datasets->-r BiomedParse/assets/requirements/requirements.txt (line 18)) (8.5.0)\n",
            "Requirement already satisfied: networkx>=3.0 in /usr/local/lib/python3.12/dist-packages (from scikit-image->-r BiomedParse/assets/requirements/requirements.txt (line 25)) (3.5)\n",
            "Requirement already satisfied: imageio!=2.35.0,>=2.33 in /usr/local/lib/python3.12/dist-packages (from scikit-image->-r BiomedParse/assets/requirements/requirements.txt (line 25)) (2.37.0)\n",
            "Requirement already satisfied: tifffile>=2022.8.12 in /usr/local/lib/python3.12/dist-packages (from scikit-image->-r BiomedParse/assets/requirements/requirements.txt (line 25)) (2025.8.28)\n",
            "Requirement already satisfied: lazy-loader>=0.4 in /usr/local/lib/python3.12/dist-packages (from scikit-image->-r BiomedParse/assets/requirements/requirements.txt (line 25)) (0.4)\n",
            "Requirement already satisfied: seaborn in /usr/local/lib/python3.12/dist-packages (from mup->-r BiomedParse/assets/requirements/requirements.txt (line 26)) (0.13.2)\n",
            "Requirement already satisfied: psutil in /usr/local/lib/python3.12/dist-packages (from accelerate->-r BiomedParse/assets/requirements/requirements.txt (line 27)) (5.9.5)\n",
            "Requirement already satisfied: kornia_rs>=0.1.9 in /usr/local/lib/python3.12/dist-packages (from kornia->-r BiomedParse/assets/requirements/requirements.txt (line 28)) (0.1.9)\n",
            "Requirement already satisfied: hjson in /usr/local/lib/python3.12/dist-packages (from deepspeed->-r BiomedParse/assets/requirements/requirements.txt (line 29)) (3.1.0)\n",
            "Requirement already satisfied: msgpack in /usr/local/lib/python3.12/dist-packages (from deepspeed->-r BiomedParse/assets/requirements/requirements.txt (line 29)) (1.1.1)\n",
            "Requirement already satisfied: ninja in /usr/local/lib/python3.12/dist-packages (from deepspeed->-r BiomedParse/assets/requirements/requirements.txt (line 29)) (1.13.0)\n",
            "Requirement already satisfied: py-cpuinfo in /usr/local/lib/python3.12/dist-packages (from deepspeed->-r BiomedParse/assets/requirements/requirements.txt (line 29)) (9.0.0)\n",
            "Requirement already satisfied: pydantic>=2.0.0 in /usr/local/lib/python3.12/dist-packages (from deepspeed->-r BiomedParse/assets/requirements/requirements.txt (line 29)) (2.11.7)\n",
            "Requirement already satisfied: matplotlib in /usr/local/lib/python3.12/dist-packages (from detectron2==0.6->-r BiomedParse/assets/requirements/requirements.txt (line 33)) (3.10.0)\n",
            "Requirement already satisfied: cloudpickle in /usr/local/lib/python3.12/dist-packages (from detectron2==0.6->-r BiomedParse/assets/requirements/requirements.txt (line 33)) (3.1.1)\n",
            "Requirement already satisfied: tensorboard in /usr/local/lib/python3.12/dist-packages (from detectron2==0.6->-r BiomedParse/assets/requirements/requirements.txt (line 33)) (2.19.0)\n",
            "Requirement already satisfied: future in /usr/local/lib/python3.12/dist-packages (from detectron2==0.6->-r BiomedParse/assets/requirements/requirements.txt (line 33)) (1.0.0)\n",
            "Requirement already satisfied: pydot in /usr/local/lib/python3.12/dist-packages (from detectron2==0.6->-r BiomedParse/assets/requirements/requirements.txt (line 33)) (3.0.4)\n",
            "Requirement already satisfied: omegaconf>=2.1 in /usr/local/lib/python3.12/dist-packages (from detectron2==0.6->-r BiomedParse/assets/requirements/requirements.txt (line 33)) (2.3.0)\n",
            "Requirement already satisfied: hydra-core>=1.1 in /usr/local/lib/python3.12/dist-packages (from detectron2==0.6->-r BiomedParse/assets/requirements/requirements.txt (line 33)) (1.3.2)\n",
            "Requirement already satisfied: black==21.4b2 in /usr/local/lib/python3.12/dist-packages (from detectron2==0.6->-r BiomedParse/assets/requirements/requirements.txt (line 33)) (21.4b2)\n",
            "Requirement already satisfied: appdirs in /usr/local/lib/python3.12/dist-packages (from black==21.4b2->detectron2==0.6->-r BiomedParse/assets/requirements/requirements.txt (line 33)) (1.4.4)\n",
            "Requirement already satisfied: toml>=0.10.1 in /usr/local/lib/python3.12/dist-packages (from black==21.4b2->detectron2==0.6->-r BiomedParse/assets/requirements/requirements.txt (line 33)) (0.10.2)\n",
            "Requirement already satisfied: pathspec<1,>=0.8.1 in /usr/local/lib/python3.12/dist-packages (from black==21.4b2->detectron2==0.6->-r BiomedParse/assets/requirements/requirements.txt (line 33)) (0.12.1)\n",
            "Requirement already satisfied: mypy-extensions>=0.4.3 in /usr/local/lib/python3.12/dist-packages (from black==21.4b2->detectron2==0.6->-r BiomedParse/assets/requirements/requirements.txt (line 33)) (1.1.0)\n",
            "Requirement already satisfied: fsspec>=2023.5.0 in /usr/local/lib/python3.12/dist-packages (from huggingface_hub->timm->-r BiomedParse/assets/requirements/requirements.txt (line 8)) (2025.3.0)\n",
            "Requirement already satisfied: typing-extensions>=3.7.4.3 in /usr/local/lib/python3.12/dist-packages (from huggingface_hub->timm->-r BiomedParse/assets/requirements/requirements.txt (line 8)) (4.15.0)\n",
            "Requirement already satisfied: hf-xet<2.0.0,>=1.1.3 in /usr/local/lib/python3.12/dist-packages (from huggingface_hub->timm->-r BiomedParse/assets/requirements/requirements.txt (line 8)) (1.1.9)\n",
            "Requirement already satisfied: antlr4-python3-runtime==4.9.* in /usr/local/lib/python3.12/dist-packages (from hydra-core>=1.1->detectron2==0.6->-r BiomedParse/assets/requirements/requirements.txt (line 33)) (4.9.3)\n",
            "Requirement already satisfied: portalocker in /usr/local/lib/python3.12/dist-packages (from iopath>=0.1.7->fvcore->-r BiomedParse/assets/requirements/requirements.txt (line 11)) (3.2.0)\n",
            "Requirement already satisfied: annotated-types>=0.6.0 in /usr/local/lib/python3.12/dist-packages (from pydantic>=2.0.0->deepspeed->-r BiomedParse/assets/requirements/requirements.txt (line 29)) (0.7.0)\n",
            "Requirement already satisfied: pydantic-core==2.33.2 in /usr/local/lib/python3.12/dist-packages (from pydantic>=2.0.0->deepspeed->-r BiomedParse/assets/requirements/requirements.txt (line 29)) (2.33.2)\n",
            "Requirement already satisfied: typing-inspection>=0.4.0 in /usr/local/lib/python3.12/dist-packages (from pydantic>=2.0.0->deepspeed->-r BiomedParse/assets/requirements/requirements.txt (line 29)) (0.4.1)\n",
            "Requirement already satisfied: six>=1.5 in /usr/local/lib/python3.12/dist-packages (from python-dateutil>=2.8.2->pandas->-r BiomedParse/assets/requirements/requirements.txt (line 7)) (1.17.0)\n",
            "Requirement already satisfied: charset_normalizer<4,>=2 in /usr/local/lib/python3.12/dist-packages (from requests->transformers->-r BiomedParse/assets/requirements/requirements.txt (line 12)) (3.4.3)\n",
            "Requirement already satisfied: idna<4,>=2.5 in /usr/local/lib/python3.12/dist-packages (from requests->transformers->-r BiomedParse/assets/requirements/requirements.txt (line 12)) (3.10)\n",
            "Requirement already satisfied: urllib3<3,>=1.21.1 in /usr/local/lib/python3.12/dist-packages (from requests->transformers->-r BiomedParse/assets/requirements/requirements.txt (line 12)) (2.5.0)\n",
            "Requirement already satisfied: certifi>=2017.4.17 in /usr/local/lib/python3.12/dist-packages (from requests->transformers->-r BiomedParse/assets/requirements/requirements.txt (line 12)) (2025.8.3)\n",
            "Requirement already satisfied: setuptools in /usr/local/lib/python3.12/dist-packages (from torch->timm->-r BiomedParse/assets/requirements/requirements.txt (line 8)) (75.2.0)\n",
            "Requirement already satisfied: sympy>=1.13.3 in /usr/local/lib/python3.12/dist-packages (from torch->timm->-r BiomedParse/assets/requirements/requirements.txt (line 8)) (1.13.3)\n",
            "Requirement already satisfied: jinja2 in /usr/local/lib/python3.12/dist-packages (from torch->timm->-r BiomedParse/assets/requirements/requirements.txt (line 8)) (3.1.6)\n",
            "Requirement already satisfied: nvidia-cuda-nvrtc-cu12==12.6.77 in /usr/local/lib/python3.12/dist-packages (from torch->timm->-r BiomedParse/assets/requirements/requirements.txt (line 8)) (12.6.77)\n",
            "Requirement already satisfied: nvidia-cuda-runtime-cu12==12.6.77 in /usr/local/lib/python3.12/dist-packages (from torch->timm->-r BiomedParse/assets/requirements/requirements.txt (line 8)) (12.6.77)\n",
            "Requirement already satisfied: nvidia-cuda-cupti-cu12==12.6.80 in /usr/local/lib/python3.12/dist-packages (from torch->timm->-r BiomedParse/assets/requirements/requirements.txt (line 8)) (12.6.80)\n",
            "Requirement already satisfied: nvidia-cudnn-cu12==9.10.2.21 in /usr/local/lib/python3.12/dist-packages (from torch->timm->-r BiomedParse/assets/requirements/requirements.txt (line 8)) (9.10.2.21)\n",
            "Requirement already satisfied: nvidia-cublas-cu12==12.6.4.1 in /usr/local/lib/python3.12/dist-packages (from torch->timm->-r BiomedParse/assets/requirements/requirements.txt (line 8)) (12.6.4.1)\n",
            "Requirement already satisfied: nvidia-cufft-cu12==11.3.0.4 in /usr/local/lib/python3.12/dist-packages (from torch->timm->-r BiomedParse/assets/requirements/requirements.txt (line 8)) (11.3.0.4)\n",
            "Requirement already satisfied: nvidia-curand-cu12==10.3.7.77 in /usr/local/lib/python3.12/dist-packages (from torch->timm->-r BiomedParse/assets/requirements/requirements.txt (line 8)) (10.3.7.77)\n",
            "Requirement already satisfied: nvidia-cusolver-cu12==11.7.1.2 in /usr/local/lib/python3.12/dist-packages (from torch->timm->-r BiomedParse/assets/requirements/requirements.txt (line 8)) (11.7.1.2)\n",
            "Requirement already satisfied: nvidia-cusparse-cu12==12.5.4.2 in /usr/local/lib/python3.12/dist-packages (from torch->timm->-r BiomedParse/assets/requirements/requirements.txt (line 8)) (12.5.4.2)\n",
            "Requirement already satisfied: nvidia-cusparselt-cu12==0.7.1 in /usr/local/lib/python3.12/dist-packages (from torch->timm->-r BiomedParse/assets/requirements/requirements.txt (line 8)) (0.7.1)\n",
            "Requirement already satisfied: nvidia-nccl-cu12==2.27.3 in /usr/local/lib/python3.12/dist-packages (from torch->timm->-r BiomedParse/assets/requirements/requirements.txt (line 8)) (2.27.3)\n",
            "Requirement already satisfied: nvidia-nvtx-cu12==12.6.77 in /usr/local/lib/python3.12/dist-packages (from torch->timm->-r BiomedParse/assets/requirements/requirements.txt (line 8)) (12.6.77)\n",
            "Requirement already satisfied: nvidia-nvjitlink-cu12==12.6.85 in /usr/local/lib/python3.12/dist-packages (from torch->timm->-r BiomedParse/assets/requirements/requirements.txt (line 8)) (12.6.85)\n",
            "Requirement already satisfied: nvidia-cufile-cu12==1.11.1.6 in /usr/local/lib/python3.12/dist-packages (from torch->timm->-r BiomedParse/assets/requirements/requirements.txt (line 8)) (1.11.1.6)\n",
            "Requirement already satisfied: triton==3.4.0 in /usr/local/lib/python3.12/dist-packages (from torch->timm->-r BiomedParse/assets/requirements/requirements.txt (line 8)) (3.4.0)\n",
            "Requirement already satisfied: azure-core>=1.31.0 in /usr/local/lib/python3.12/dist-packages (from azure-identity->vision-datasets->-r BiomedParse/assets/requirements/requirements.txt (line 18)) (1.35.1)\n",
            "Requirement already satisfied: cryptography>=2.5 in /usr/local/lib/python3.12/dist-packages (from azure-identity->vision-datasets->-r BiomedParse/assets/requirements/requirements.txt (line 18)) (43.0.3)\n",
            "Requirement already satisfied: msal>=1.30.0 in /usr/local/lib/python3.12/dist-packages (from azure-identity->vision-datasets->-r BiomedParse/assets/requirements/requirements.txt (line 18)) (1.33.0)\n",
            "Requirement already satisfied: msal-extensions>=1.2.0 in /usr/local/lib/python3.12/dist-packages (from azure-identity->vision-datasets->-r BiomedParse/assets/requirements/requirements.txt (line 18)) (1.3.1)\n",
            "Requirement already satisfied: isodate>=0.6.1 in /usr/local/lib/python3.12/dist-packages (from azure-storage-blob->vision-datasets->-r BiomedParse/assets/requirements/requirements.txt (line 18)) (0.7.2)\n",
            "Requirement already satisfied: contourpy>=1.0.1 in /usr/local/lib/python3.12/dist-packages (from matplotlib->detectron2==0.6->-r BiomedParse/assets/requirements/requirements.txt (line 33)) (1.3.3)\n",
            "Requirement already satisfied: cycler>=0.10 in /usr/local/lib/python3.12/dist-packages (from matplotlib->detectron2==0.6->-r BiomedParse/assets/requirements/requirements.txt (line 33)) (0.12.1)\n",
            "Requirement already satisfied: fonttools>=4.22.0 in /usr/local/lib/python3.12/dist-packages (from matplotlib->detectron2==0.6->-r BiomedParse/assets/requirements/requirements.txt (line 33)) (4.59.2)\n",
            "Requirement already satisfied: kiwisolver>=1.3.1 in /usr/local/lib/python3.12/dist-packages (from matplotlib->detectron2==0.6->-r BiomedParse/assets/requirements/requirements.txt (line 33)) (1.4.9)\n",
            "Requirement already satisfied: pyparsing>=2.3.1 in /usr/local/lib/python3.12/dist-packages (from matplotlib->detectron2==0.6->-r BiomedParse/assets/requirements/requirements.txt (line 33)) (3.2.3)\n",
            "Requirement already satisfied: absl-py>=0.4 in /usr/local/lib/python3.12/dist-packages (from tensorboard->detectron2==0.6->-r BiomedParse/assets/requirements/requirements.txt (line 33)) (1.4.0)\n",
            "Requirement already satisfied: grpcio>=1.48.2 in /usr/local/lib/python3.12/dist-packages (from tensorboard->detectron2==0.6->-r BiomedParse/assets/requirements/requirements.txt (line 33)) (1.74.0)\n",
            "Requirement already satisfied: markdown>=2.6.8 in /usr/local/lib/python3.12/dist-packages (from tensorboard->detectron2==0.6->-r BiomedParse/assets/requirements/requirements.txt (line 33)) (3.9)\n",
            "Requirement already satisfied: protobuf!=4.24.0,>=3.19.6 in /usr/local/lib/python3.12/dist-packages (from tensorboard->detectron2==0.6->-r BiomedParse/assets/requirements/requirements.txt (line 33)) (5.29.5)\n",
            "Requirement already satisfied: tensorboard-data-server<0.8.0,>=0.7.0 in /usr/local/lib/python3.12/dist-packages (from tensorboard->detectron2==0.6->-r BiomedParse/assets/requirements/requirements.txt (line 33)) (0.7.2)\n",
            "Requirement already satisfied: werkzeug>=1.0.1 in /usr/local/lib/python3.12/dist-packages (from tensorboard->detectron2==0.6->-r BiomedParse/assets/requirements/requirements.txt (line 33)) (3.1.3)\n",
            "Requirement already satisfied: cffi>=1.12 in /usr/local/lib/python3.12/dist-packages (from cryptography>=2.5->azure-identity->vision-datasets->-r BiomedParse/assets/requirements/requirements.txt (line 18)) (2.0.0)\n",
            "Requirement already satisfied: PyJWT<3,>=1.0.0 in /usr/local/lib/python3.12/dist-packages (from PyJWT[crypto]<3,>=1.0.0->msal>=1.30.0->azure-identity->vision-datasets->-r BiomedParse/assets/requirements/requirements.txt (line 18)) (2.10.1)\n",
            "Requirement already satisfied: mpmath<1.4,>=1.1.0 in /usr/local/lib/python3.12/dist-packages (from sympy>=1.13.3->torch->timm->-r BiomedParse/assets/requirements/requirements.txt (line 8)) (1.3.0)\n",
            "Requirement already satisfied: MarkupSafe>=2.1.1 in /usr/local/lib/python3.12/dist-packages (from werkzeug>=1.0.1->tensorboard->detectron2==0.6->-r BiomedParse/assets/requirements/requirements.txt (line 33)) (3.0.2)\n",
            "Requirement already satisfied: pycparser in /usr/local/lib/python3.12/dist-packages (from cffi>=1.12->cryptography>=2.5->azure-identity->vision-datasets->-r BiomedParse/assets/requirements/requirements.txt (line 18)) (2.23)\n",
            "Building wheels for collected packages: detectron2\n",
            "  Building wheel for detectron2 (setup.py) ... \u001b[?25l\u001b[?25hcanceled\n",
            "\u001b[31mERROR: Operation cancelled by user\u001b[0m\u001b[31m\n",
            "\u001b[0m"
          ]
        }
      ]
    },
    {
      "cell_type": "code",
      "source": [
        "from google.colab import drive\n",
        "drive.mount('/content/drive')"
      ],
      "metadata": {
        "id": "ufFGY8SyehnG",
        "outputId": "a3581069-44a7-4f8e-815f-2f8d46b90f54",
        "colab": {
          "base_uri": "https://localhost:8080/"
        }
      },
      "execution_count": 2,
      "outputs": [
        {
          "output_type": "stream",
          "name": "stdout",
          "text": [
            "Mounted at /content/drive\n"
          ]
        }
      ]
    },
    {
      "cell_type": "code",
      "source": [
        "import os\n",
        "os.chdir('/content/BiomedParse')\n",
        "print(os.getcwd())"
      ],
      "metadata": {
        "id": "spgO6AzORNsI",
        "outputId": "df90f6c5-9a88-46e5-e18a-8837455ab47f",
        "colab": {
          "base_uri": "https://localhost:8080/"
        }
      },
      "execution_count": 3,
      "outputs": [
        {
          "output_type": "stream",
          "name": "stdout",
          "text": [
            "/content/BiomedParse\n"
          ]
        }
      ]
    },
    {
      "cell_type": "code",
      "source": [
        "!pip install \"git+https://github.com/facebookresearch/detectron2.git@v0.5#egg=detectron2\""
      ],
      "metadata": {
        "id": "UOlTX0bLR80T",
        "outputId": "813c51f4-54be-4e8c-a6ea-edbd67df6f9c",
        "colab": {
          "base_uri": "https://localhost:8080/"
        }
      },
      "execution_count": 4,
      "outputs": [
        {
          "output_type": "stream",
          "name": "stdout",
          "text": [
            "Collecting detectron2\n",
            "  Cloning https://github.com/facebookresearch/detectron2.git (to revision v0.5) to /tmp/pip-install-l704yi3a/detectron2_0002139212364c04a9232f34d6869cb7\n",
            "  Running command git clone --filter=blob:none --quiet https://github.com/facebookresearch/detectron2.git /tmp/pip-install-l704yi3a/detectron2_0002139212364c04a9232f34d6869cb7\n",
            "  Running command git checkout -q 82a57ce0b70057685962b352535147d9a8118578\n",
            "  Resolved https://github.com/facebookresearch/detectron2.git to commit 82a57ce0b70057685962b352535147d9a8118578\n",
            "  Preparing metadata (setup.py) ... \u001b[?25l\u001b[?25hdone\n",
            "Requirement already satisfied: Pillow>=7.1 in /usr/local/lib/python3.12/dist-packages (from detectron2) (11.3.0)\n",
            "Requirement already satisfied: matplotlib in /usr/local/lib/python3.12/dist-packages (from detectron2) (3.10.0)\n",
            "Requirement already satisfied: pycocotools>=2.0.2 in /usr/local/lib/python3.12/dist-packages (from detectron2) (2.0.10)\n",
            "Requirement already satisfied: termcolor>=1.1 in /usr/local/lib/python3.12/dist-packages (from detectron2) (3.1.0)\n",
            "Requirement already satisfied: yacs>=0.1.6 in /usr/local/lib/python3.12/dist-packages (from detectron2) (0.1.8)\n",
            "Requirement already satisfied: tabulate in /usr/local/lib/python3.12/dist-packages (from detectron2) (0.9.0)\n",
            "Requirement already satisfied: cloudpickle in /usr/local/lib/python3.12/dist-packages (from detectron2) (3.1.1)\n",
            "Requirement already satisfied: tqdm>4.29.0 in /usr/local/lib/python3.12/dist-packages (from detectron2) (4.67.1)\n",
            "Requirement already satisfied: tensorboard in /usr/local/lib/python3.12/dist-packages (from detectron2) (2.19.0)\n",
            "Requirement already satisfied: fvcore<0.1.6,>=0.1.5 in /usr/local/lib/python3.12/dist-packages (from detectron2) (0.1.5.post20221221)\n",
            "Requirement already satisfied: iopath<0.1.10,>=0.1.7 in /usr/local/lib/python3.12/dist-packages (from detectron2) (0.1.9)\n",
            "Requirement already satisfied: future in /usr/local/lib/python3.12/dist-packages (from detectron2) (1.0.0)\n",
            "Requirement already satisfied: pydot in /usr/local/lib/python3.12/dist-packages (from detectron2) (3.0.4)\n",
            "Requirement already satisfied: omegaconf>=2.1 in /usr/local/lib/python3.12/dist-packages (from detectron2) (2.3.0)\n",
            "Requirement already satisfied: hydra-core>=1.1 in /usr/local/lib/python3.12/dist-packages (from detectron2) (1.3.2)\n",
            "Requirement already satisfied: black==21.4b2 in /usr/local/lib/python3.12/dist-packages (from detectron2) (21.4b2)\n",
            "Requirement already satisfied: click>=7.1.2 in /usr/local/lib/python3.12/dist-packages (from black==21.4b2->detectron2) (8.2.1)\n",
            "Requirement already satisfied: appdirs in /usr/local/lib/python3.12/dist-packages (from black==21.4b2->detectron2) (1.4.4)\n",
            "Requirement already satisfied: toml>=0.10.1 in /usr/local/lib/python3.12/dist-packages (from black==21.4b2->detectron2) (0.10.2)\n",
            "Requirement already satisfied: regex>=2020.1.8 in /usr/local/lib/python3.12/dist-packages (from black==21.4b2->detectron2) (2024.11.6)\n",
            "Requirement already satisfied: pathspec<1,>=0.8.1 in /usr/local/lib/python3.12/dist-packages (from black==21.4b2->detectron2) (0.12.1)\n",
            "Requirement already satisfied: mypy-extensions>=0.4.3 in /usr/local/lib/python3.12/dist-packages (from black==21.4b2->detectron2) (1.1.0)\n",
            "Requirement already satisfied: numpy in /usr/local/lib/python3.12/dist-packages (from fvcore<0.1.6,>=0.1.5->detectron2) (2.0.2)\n",
            "Requirement already satisfied: pyyaml>=5.1 in /usr/local/lib/python3.12/dist-packages (from fvcore<0.1.6,>=0.1.5->detectron2) (6.0.2)\n",
            "Requirement already satisfied: antlr4-python3-runtime==4.9.* in /usr/local/lib/python3.12/dist-packages (from hydra-core>=1.1->detectron2) (4.9.3)\n",
            "Requirement already satisfied: packaging in /usr/local/lib/python3.12/dist-packages (from hydra-core>=1.1->detectron2) (25.0)\n",
            "Requirement already satisfied: portalocker in /usr/local/lib/python3.12/dist-packages (from iopath<0.1.10,>=0.1.7->detectron2) (3.2.0)\n",
            "Requirement already satisfied: contourpy>=1.0.1 in /usr/local/lib/python3.12/dist-packages (from matplotlib->detectron2) (1.3.3)\n",
            "Requirement already satisfied: cycler>=0.10 in /usr/local/lib/python3.12/dist-packages (from matplotlib->detectron2) (0.12.1)\n",
            "Requirement already satisfied: fonttools>=4.22.0 in /usr/local/lib/python3.12/dist-packages (from matplotlib->detectron2) (4.59.2)\n",
            "Requirement already satisfied: kiwisolver>=1.3.1 in /usr/local/lib/python3.12/dist-packages (from matplotlib->detectron2) (1.4.9)\n",
            "Requirement already satisfied: pyparsing>=2.3.1 in /usr/local/lib/python3.12/dist-packages (from matplotlib->detectron2) (3.2.3)\n",
            "Requirement already satisfied: python-dateutil>=2.7 in /usr/local/lib/python3.12/dist-packages (from matplotlib->detectron2) (2.9.0.post0)\n",
            "Requirement already satisfied: absl-py>=0.4 in /usr/local/lib/python3.12/dist-packages (from tensorboard->detectron2) (1.4.0)\n",
            "Requirement already satisfied: grpcio>=1.48.2 in /usr/local/lib/python3.12/dist-packages (from tensorboard->detectron2) (1.74.0)\n",
            "Requirement already satisfied: markdown>=2.6.8 in /usr/local/lib/python3.12/dist-packages (from tensorboard->detectron2) (3.9)\n",
            "Requirement already satisfied: protobuf!=4.24.0,>=3.19.6 in /usr/local/lib/python3.12/dist-packages (from tensorboard->detectron2) (5.29.5)\n",
            "Requirement already satisfied: setuptools>=41.0.0 in /usr/local/lib/python3.12/dist-packages (from tensorboard->detectron2) (75.2.0)\n",
            "Requirement already satisfied: six>1.9 in /usr/local/lib/python3.12/dist-packages (from tensorboard->detectron2) (1.17.0)\n",
            "Requirement already satisfied: tensorboard-data-server<0.8.0,>=0.7.0 in /usr/local/lib/python3.12/dist-packages (from tensorboard->detectron2) (0.7.2)\n",
            "Requirement already satisfied: werkzeug>=1.0.1 in /usr/local/lib/python3.12/dist-packages (from tensorboard->detectron2) (3.1.3)\n",
            "Requirement already satisfied: MarkupSafe>=2.1.1 in /usr/local/lib/python3.12/dist-packages (from werkzeug>=1.0.1->tensorboard->detectron2) (3.0.2)\n",
            "Building wheels for collected packages: detectron2\n",
            "  Building wheel for detectron2 (setup.py) ... \u001b[?25l\u001b[?25hdone\n",
            "  Created wheel for detectron2: filename=detectron2-0.5-cp312-cp312-linux_x86_64.whl size=6317529 sha256=e46c675d8af3152451acb142a927ad70b0405e076ca0c39be61849a4743c969d\n",
            "  Stored in directory: /tmp/pip-ephem-wheel-cache-070hscjl/wheels/16/b8/d1/ab1bde86b120f3871e5cfc7ecf8b5516baa01f28b3f30e7460\n",
            "Successfully built detectron2\n",
            "Installing collected packages: detectron2\n",
            "  Attempting uninstall: detectron2\n",
            "    Found existing installation: detectron2 0.6\n",
            "    Uninstalling detectron2-0.6:\n",
            "      Successfully uninstalled detectron2-0.6\n",
            "Successfully installed detectron2-0.5\n"
          ]
        }
      ]
    },
    {
      "cell_type": "code",
      "execution_count": 5,
      "metadata": {
        "id": "4hSg8lMIMpZi",
        "outputId": "e7d9d998-1e41-49c8-f7d2-89160fe97a2f",
        "colab": {
          "base_uri": "https://localhost:8080/",
          "height": 391
        }
      },
      "outputs": [
        {
          "output_type": "stream",
          "name": "stderr",
          "text": [
            "/usr/local/lib/python3.12/dist-packages/timm/models/layers/__init__.py:48: FutureWarning: Importing from timm.models.layers is deprecated, please import via timm.layers\n",
            "  warnings.warn(f\"Importing from {__name__} is deprecated, please import via timm.layers\", FutureWarning)\n"
          ]
        },
        {
          "output_type": "error",
          "ename": "AttributeError",
          "evalue": "module 'PIL.Image' has no attribute 'LINEAR'",
          "traceback": [
            "\u001b[0;31m---------------------------------------------------------------------------\u001b[0m",
            "\u001b[0;31mAttributeError\u001b[0m                            Traceback (most recent call last)",
            "\u001b[0;32m/tmp/ipython-input-1233352379.py\u001b[0m in \u001b[0;36m<cell line: 0>\u001b[0;34m()\u001b[0m\n\u001b[1;32m      2\u001b[0m \u001b[0;32mimport\u001b[0m \u001b[0mtorch\u001b[0m\u001b[0;34m\u001b[0m\u001b[0;34m\u001b[0m\u001b[0m\n\u001b[1;32m      3\u001b[0m \u001b[0;32mimport\u001b[0m \u001b[0mnumpy\u001b[0m \u001b[0;32mas\u001b[0m \u001b[0mnp\u001b[0m\u001b[0;34m\u001b[0m\u001b[0;34m\u001b[0m\u001b[0m\n\u001b[0;32m----> 4\u001b[0;31m \u001b[0;32mfrom\u001b[0m \u001b[0mmodeling\u001b[0m\u001b[0;34m.\u001b[0m\u001b[0mBaseModel\u001b[0m \u001b[0;32mimport\u001b[0m \u001b[0mBaseModel\u001b[0m\u001b[0;34m\u001b[0m\u001b[0;34m\u001b[0m\u001b[0m\n\u001b[0m\u001b[1;32m      5\u001b[0m \u001b[0;32mfrom\u001b[0m \u001b[0mmodeling\u001b[0m \u001b[0;32mimport\u001b[0m \u001b[0mbuild_model\u001b[0m\u001b[0;34m\u001b[0m\u001b[0;34m\u001b[0m\u001b[0m\n\u001b[1;32m      6\u001b[0m \u001b[0;32mfrom\u001b[0m \u001b[0mutilities\u001b[0m\u001b[0;34m.\u001b[0m\u001b[0mdistributed\u001b[0m \u001b[0;32mimport\u001b[0m \u001b[0minit_distributed\u001b[0m\u001b[0;34m\u001b[0m\u001b[0;34m\u001b[0m\u001b[0m\n",
            "\u001b[0;32m/content/BiomedParse/modeling/__init__.py\u001b[0m in \u001b[0;36m<module>\u001b[0;34m\u001b[0m\n\u001b[0;32m----> 1\u001b[0;31m \u001b[0;32mfrom\u001b[0m \u001b[0;34m.\u001b[0m\u001b[0marchitectures\u001b[0m \u001b[0;32mimport\u001b[0m \u001b[0mbuild_model\u001b[0m\u001b[0;34m\u001b[0m\u001b[0;34m\u001b[0m\u001b[0m\n\u001b[0m",
            "\u001b[0;32m/content/BiomedParse/modeling/architectures/__init__.py\u001b[0m in \u001b[0;36m<module>\u001b[0;34m\u001b[0m\n\u001b[0;32m----> 1\u001b[0;31m \u001b[0;32mfrom\u001b[0m \u001b[0;34m.\u001b[0m\u001b[0mxdecoder_model\u001b[0m \u001b[0;32mimport\u001b[0m \u001b[0;34m*\u001b[0m\u001b[0;34m\u001b[0m\u001b[0;34m\u001b[0m\u001b[0m\n\u001b[0m\u001b[1;32m      2\u001b[0m \u001b[0;32mfrom\u001b[0m \u001b[0;34m.\u001b[0m\u001b[0mseem_model_v0\u001b[0m \u001b[0;32mimport\u001b[0m \u001b[0;34m*\u001b[0m\u001b[0;34m\u001b[0m\u001b[0;34m\u001b[0m\u001b[0m\n\u001b[1;32m      3\u001b[0m \u001b[0;32mfrom\u001b[0m \u001b[0;34m.\u001b[0m\u001b[0mseem_model_v1\u001b[0m \u001b[0;32mimport\u001b[0m \u001b[0;34m*\u001b[0m\u001b[0;34m\u001b[0m\u001b[0;34m\u001b[0m\u001b[0m\n\u001b[1;32m      4\u001b[0m \u001b[0;32mfrom\u001b[0m \u001b[0;34m.\u001b[0m\u001b[0mseem_model_demo\u001b[0m \u001b[0;32mimport\u001b[0m \u001b[0;34m*\u001b[0m\u001b[0;34m\u001b[0m\u001b[0;34m\u001b[0m\u001b[0m\n\u001b[1;32m      5\u001b[0m \u001b[0;32mfrom\u001b[0m \u001b[0;34m.\u001b[0m\u001b[0mbuild\u001b[0m \u001b[0;32mimport\u001b[0m \u001b[0mbuild_model\u001b[0m\u001b[0;34m\u001b[0m\u001b[0;34m\u001b[0m\u001b[0m\n",
            "\u001b[0;32m/content/BiomedParse/modeling/architectures/xdecoder_model.py\u001b[0m in \u001b[0;36m<module>\u001b[0;34m\u001b[0m\n\u001b[1;32m     18\u001b[0m \u001b[0;32mfrom\u001b[0m \u001b[0mdetectron2\u001b[0m\u001b[0;34m.\u001b[0m\u001b[0mstructures\u001b[0m \u001b[0;32mimport\u001b[0m \u001b[0mBoxes\u001b[0m\u001b[0;34m,\u001b[0m \u001b[0mImageList\u001b[0m\u001b[0;34m,\u001b[0m \u001b[0mInstances\u001b[0m\u001b[0;34m,\u001b[0m \u001b[0mBitMasks\u001b[0m\u001b[0;34m,\u001b[0m \u001b[0mBoxMode\u001b[0m\u001b[0;34m\u001b[0m\u001b[0;34m\u001b[0m\u001b[0m\n\u001b[1;32m     19\u001b[0m \u001b[0;32mfrom\u001b[0m \u001b[0mdetectron2\u001b[0m\u001b[0;34m.\u001b[0m\u001b[0mutils\u001b[0m\u001b[0;34m.\u001b[0m\u001b[0mmemory\u001b[0m \u001b[0;32mimport\u001b[0m \u001b[0mretry_if_cuda_oom\u001b[0m\u001b[0;34m\u001b[0m\u001b[0;34m\u001b[0m\u001b[0m\n\u001b[0;32m---> 20\u001b[0;31m \u001b[0;32mfrom\u001b[0m \u001b[0mdetectron2\u001b[0m\u001b[0;34m.\u001b[0m\u001b[0mdata\u001b[0m \u001b[0;32mimport\u001b[0m \u001b[0mMetadataCatalog\u001b[0m\u001b[0;34m\u001b[0m\u001b[0;34m\u001b[0m\u001b[0m\n\u001b[0m\u001b[1;32m     21\u001b[0m \u001b[0;34m\u001b[0m\u001b[0m\n\u001b[1;32m     22\u001b[0m \u001b[0;32mfrom\u001b[0m \u001b[0;34m.\u001b[0m\u001b[0mbuild\u001b[0m \u001b[0;32mimport\u001b[0m \u001b[0mregister_model\u001b[0m\u001b[0;34m\u001b[0m\u001b[0;34m\u001b[0m\u001b[0m\n",
            "\u001b[0;32m/usr/local/lib/python3.12/dist-packages/detectron2/data/__init__.py\u001b[0m in \u001b[0;36m<module>\u001b[0;34m\u001b[0m\n\u001b[1;32m      1\u001b[0m \u001b[0;31m# Copyright (c) Facebook, Inc. and its affiliates.\u001b[0m\u001b[0;34m\u001b[0m\u001b[0;34m\u001b[0m\u001b[0m\n\u001b[0;32m----> 2\u001b[0;31m \u001b[0;32mfrom\u001b[0m \u001b[0;34m.\u001b[0m \u001b[0;32mimport\u001b[0m \u001b[0mtransforms\u001b[0m  \u001b[0;31m# isort:skip\u001b[0m\u001b[0;34m\u001b[0m\u001b[0;34m\u001b[0m\u001b[0m\n\u001b[0m\u001b[1;32m      3\u001b[0m \u001b[0;34m\u001b[0m\u001b[0m\n\u001b[1;32m      4\u001b[0m from .build import (\n\u001b[1;32m      5\u001b[0m     \u001b[0mbuild_batch_data_loader\u001b[0m\u001b[0;34m,\u001b[0m\u001b[0;34m\u001b[0m\u001b[0;34m\u001b[0m\u001b[0m\n",
            "\u001b[0;32m/usr/local/lib/python3.12/dist-packages/detectron2/data/transforms/__init__.py\u001b[0m in \u001b[0;36m<module>\u001b[0;34m\u001b[0m\n\u001b[1;32m      2\u001b[0m \u001b[0;32mfrom\u001b[0m \u001b[0mfvcore\u001b[0m\u001b[0;34m.\u001b[0m\u001b[0mtransforms\u001b[0m\u001b[0;34m.\u001b[0m\u001b[0mtransform\u001b[0m \u001b[0;32mimport\u001b[0m \u001b[0mTransform\u001b[0m\u001b[0;34m,\u001b[0m \u001b[0mTransformList\u001b[0m  \u001b[0;31m# order them first\u001b[0m\u001b[0;34m\u001b[0m\u001b[0;34m\u001b[0m\u001b[0m\n\u001b[1;32m      3\u001b[0m \u001b[0;32mfrom\u001b[0m \u001b[0mfvcore\u001b[0m\u001b[0;34m.\u001b[0m\u001b[0mtransforms\u001b[0m\u001b[0;34m.\u001b[0m\u001b[0mtransform\u001b[0m \u001b[0;32mimport\u001b[0m \u001b[0;34m*\u001b[0m\u001b[0;34m\u001b[0m\u001b[0;34m\u001b[0m\u001b[0m\n\u001b[0;32m----> 4\u001b[0;31m \u001b[0;32mfrom\u001b[0m \u001b[0;34m.\u001b[0m\u001b[0mtransform\u001b[0m \u001b[0;32mimport\u001b[0m \u001b[0;34m*\u001b[0m\u001b[0;34m\u001b[0m\u001b[0;34m\u001b[0m\u001b[0m\n\u001b[0m\u001b[1;32m      5\u001b[0m \u001b[0;32mfrom\u001b[0m \u001b[0;34m.\u001b[0m\u001b[0maugmentation\u001b[0m \u001b[0;32mimport\u001b[0m \u001b[0;34m*\u001b[0m\u001b[0;34m\u001b[0m\u001b[0;34m\u001b[0m\u001b[0m\n\u001b[1;32m      6\u001b[0m \u001b[0;32mfrom\u001b[0m \u001b[0;34m.\u001b[0m\u001b[0maugmentation_impl\u001b[0m \u001b[0;32mimport\u001b[0m \u001b[0;34m*\u001b[0m\u001b[0;34m\u001b[0m\u001b[0;34m\u001b[0m\u001b[0m\n",
            "\u001b[0;32m/usr/local/lib/python3.12/dist-packages/detectron2/data/transforms/transform.py\u001b[0m in \u001b[0;36m<module>\u001b[0;34m\u001b[0m\n\u001b[1;32m     34\u001b[0m \u001b[0;34m\u001b[0m\u001b[0m\n\u001b[1;32m     35\u001b[0m \u001b[0;34m\u001b[0m\u001b[0m\n\u001b[0;32m---> 36\u001b[0;31m \u001b[0;32mclass\u001b[0m \u001b[0mExtentTransform\u001b[0m\u001b[0;34m(\u001b[0m\u001b[0mTransform\u001b[0m\u001b[0;34m)\u001b[0m\u001b[0;34m:\u001b[0m\u001b[0;34m\u001b[0m\u001b[0;34m\u001b[0m\u001b[0m\n\u001b[0m\u001b[1;32m     37\u001b[0m     \"\"\"\n\u001b[1;32m     38\u001b[0m     \u001b[0mExtracts\u001b[0m \u001b[0ma\u001b[0m \u001b[0msubregion\u001b[0m \u001b[0;32mfrom\u001b[0m \u001b[0mthe\u001b[0m \u001b[0msource\u001b[0m \u001b[0mimage\u001b[0m \u001b[0;32mand\u001b[0m \u001b[0mscales\u001b[0m \u001b[0mit\u001b[0m \u001b[0mto\u001b[0m \u001b[0mthe\u001b[0m \u001b[0moutput\u001b[0m \u001b[0msize\u001b[0m\u001b[0;34m.\u001b[0m\u001b[0;34m\u001b[0m\u001b[0;34m\u001b[0m\u001b[0m\n",
            "\u001b[0;32m/usr/local/lib/python3.12/dist-packages/detectron2/data/transforms/transform.py\u001b[0m in \u001b[0;36mExtentTransform\u001b[0;34m()\u001b[0m\n\u001b[1;32m     44\u001b[0m     \"\"\"\n\u001b[1;32m     45\u001b[0m \u001b[0;34m\u001b[0m\u001b[0m\n\u001b[0;32m---> 46\u001b[0;31m     \u001b[0;32mdef\u001b[0m \u001b[0m__init__\u001b[0m\u001b[0;34m(\u001b[0m\u001b[0mself\u001b[0m\u001b[0;34m,\u001b[0m \u001b[0msrc_rect\u001b[0m\u001b[0;34m,\u001b[0m \u001b[0moutput_size\u001b[0m\u001b[0;34m,\u001b[0m \u001b[0minterp\u001b[0m\u001b[0;34m=\u001b[0m\u001b[0mImage\u001b[0m\u001b[0;34m.\u001b[0m\u001b[0mLINEAR\u001b[0m\u001b[0;34m,\u001b[0m \u001b[0mfill\u001b[0m\u001b[0;34m=\u001b[0m\u001b[0;36m0\u001b[0m\u001b[0;34m)\u001b[0m\u001b[0;34m:\u001b[0m\u001b[0;34m\u001b[0m\u001b[0;34m\u001b[0m\u001b[0m\n\u001b[0m\u001b[1;32m     47\u001b[0m         \"\"\"\n\u001b[1;32m     48\u001b[0m         \u001b[0mArgs\u001b[0m\u001b[0;34m:\u001b[0m\u001b[0;34m\u001b[0m\u001b[0;34m\u001b[0m\u001b[0m\n",
            "\u001b[0;31mAttributeError\u001b[0m: module 'PIL.Image' has no attribute 'LINEAR'"
          ]
        }
      ],
      "source": [
        "from PIL import Image\n",
        "import torch\n",
        "import numpy as np\n",
        "from BaseModel import BaseModel\n",
        "from modeling import build_model\n",
        "from utilities.distributed import init_distributed\n",
        "from utilities.arguments import load_opt_from_config_files\n",
        "from utilities.constants import BIOMED_CLASSES\n",
        "\n",
        "from inference_utils.inference import interactive_infer_image\n",
        "from inference_utils.output_processing import check_mask_stats\n",
        "# P-value (adjusted) that the segmentation belongs to \"nodule\" in the CT-Chest class\n",
        "# Lower p-value indicates it is likely the segmentation not belongs to the class. Recommended threshold is 0.05"
      ]
    },
    {
      "cell_type": "code",
      "execution_count": null,
      "metadata": {
        "id": "RYG37IQOMpZk"
      },
      "outputs": [],
      "source": [
        "import huggingface_hub\n",
        "\n",
        "HF_TOKEN = 'YOUR_HUGGINGFACE_TOKEN'\n",
        "\n",
        "huggingface_hub.login(HF_TOKEN)"
      ]
    },
    {
      "cell_type": "markdown",
      "metadata": {
        "id": "AT06ylNQMpZl"
      },
      "source": [
        "### Model Setup"
      ]
    },
    {
      "cell_type": "code",
      "execution_count": null,
      "metadata": {
        "id": "tUNq8Me2MpZl"
      },
      "outputs": [],
      "source": [
        "# Build model config\n",
        "opt = load_opt_from_config_files([\"configs/biomedparse_inference.yaml\"])\n",
        "opt = init_distributed(opt)\n",
        "\n",
        "# Load model from pretrained weights\n",
        "pretrained_pth = 'hf_hub:microsoft/BiomedParse'\n",
        "\n",
        "model = BaseModel(opt, build_model(opt)).from_pretrained(pretrained_pth).eval().cuda()\n",
        "with torch.no_grad():\n",
        "    model.model.sem_seg_head.predictor.lang_encoder.get_text_embeddings(BIOMED_CLASSES + [\"background\"], is_eval=True)"
      ]
    },
    {
      "cell_type": "markdown",
      "metadata": {
        "id": "lihtLaSIMpZm"
      },
      "source": [
        "### Utility Functions"
      ]
    },
    {
      "cell_type": "code",
      "execution_count": null,
      "metadata": {
        "id": "_DXtlk9hMpZm"
      },
      "outputs": [],
      "source": [
        "def plot_segmentation_masks(original_image, segmentation_masks, texts, rotate=0):\n",
        "    ''' Plot a list of segmentation mask over an image.\n",
        "    '''\n",
        "    original_image = original_image[:, :, :3]\n",
        "    fig, ax = plt.subplots(1, len(segmentation_masks) + 1, figsize=(10, 5))\n",
        "    ax[0].imshow(np.rot90(original_image, rotate), cmap='gray')\n",
        "    ax[0].set_title('Original Image')\n",
        "    # grid off\n",
        "    for a in ax:\n",
        "        a.axis('off')\n",
        "\n",
        "    for i, mask in enumerate(segmentation_masks):\n",
        "\n",
        "        ax[i+1].set_title(texts[i])\n",
        "        mask_temp = original_image.copy()\n",
        "        mask_temp[mask > 0.5] = [255, 0, 0]\n",
        "        mask_temp[mask <= 0.5] = [0, 0, 0, ]\n",
        "        ax[i+1].imshow(np.rot90(mask_temp, rotate), alpha=0.9)\n",
        "        ax[i+1].imshow(np.rot90(original_image, rotate), cmap='gray', alpha=0.5)\n",
        "\n",
        "\n",
        "    plt.show()"
      ]
    },
    {
      "cell_type": "code",
      "execution_count": null,
      "metadata": {
        "id": "ke5bc5HnMpZm"
      },
      "outputs": [],
      "source": [
        "!pip install pydicom nibabel SimpleITK\n",
        "\n",
        "import json\n",
        "import matplotlib.pyplot as plt\n",
        "\n",
        "from inference_utils.processing_utils import read_nifti\n",
        "\n",
        "\n",
        "def inference_nifti(file_path, text_prompts, is_CT, slice_idx, site=None, HW_index=(0, 1), channel_idx=None, rotate=0):\n",
        "    image = read_nifti(file_path, is_CT, slice_idx, site=site,\n",
        "                       HW_index=HW_index, channel_idx=channel_idx)\n",
        "\n",
        "    pred_mask = interactive_infer_image(model, Image.fromarray(image), text_prompts)\n",
        "\n",
        "    # Plot feature over image\n",
        "    plot_segmentation_masks(image, pred_mask, text_prompts, rotate=rotate)\n",
        "\n",
        "    return image, pred_mask\n"
      ]
    },
    {
      "cell_type": "markdown",
      "metadata": {
        "id": "FAlHTcuSMpZm"
      },
      "source": [
        "### Ultrasound Example"
      ]
    },
    {
      "cell_type": "code",
      "execution_count": null,
      "metadata": {
        "id": "1M2gzmfHMpZn"
      },
      "outputs": [],
      "source": [
        "image_path = 'examples/patient0500_2CH_half_sequence.nii.gz'\n",
        "text_prompt = ['left heart ventricle', 'left heart atrium']\n",
        "slide_idx = 0\n",
        "\n",
        "image, pred_mask = inference_nifti(image_path, text_prompt, is_CT=False, slice_idx=slide_idx, site=None, rotate=3)\n",
        "\n",
        "for i in range(len(pred_mask)):\n",
        "    adj_pvalue = check_mask_stats(image, pred_mask[i]*255, 'Ultrasound-Cardiac', text_prompt[i])\n",
        "    print(f'{text_prompt[i]} P-value: {adj_pvalue}')"
      ]
    },
    {
      "cell_type": "markdown",
      "metadata": {
        "id": "lshULABFMpZn"
      },
      "source": [
        "### MRI Example\n",
        "#### T1-Gd"
      ]
    },
    {
      "cell_type": "code",
      "execution_count": null,
      "metadata": {
        "id": "2h8ER8W_MpZn"
      },
      "outputs": [],
      "source": [
        "image_path = 'examples/BRATS_397.nii.gz'\n",
        "text_prompt = ['tumor core', 'enhancing tumor', 'non-enhancing tumor']\n",
        "slide_idx = 89\n",
        "\n",
        "image, pred_mask =  inference_nifti(image_path, text_prompt, is_CT=False, slice_idx=slide_idx, site=None, channel_idx=2, rotate=1)\n",
        "\n",
        "for i in range(len(pred_mask)):\n",
        "    adj_pvalue = check_mask_stats(image, pred_mask[i]*255, 'MRI-T1-Gd-Brain', text_prompt[i])\n",
        "    print(f'{text_prompt[i]} P-value: {adj_pvalue}')"
      ]
    },
    {
      "cell_type": "markdown",
      "metadata": {
        "id": "LT1k700dMpZn"
      },
      "source": [
        "#### FLAIR"
      ]
    },
    {
      "cell_type": "code",
      "execution_count": null,
      "metadata": {
        "id": "fKDkXXHTMpZo"
      },
      "outputs": [],
      "source": [
        "image_path = 'examples/BRATS_422.nii.gz'\n",
        "text_prompt = ['whole tumor', 'tumor core', 'edema']\n",
        "slide_idx = 84\n",
        "\n",
        "image, pred_mask =  inference_nifti(image_path, text_prompt, is_CT=False, slice_idx=slide_idx, site=None, channel_idx=0, rotate=1)\n",
        "\n",
        "for i in range(len(pred_mask)):\n",
        "    adj_pvalue = check_mask_stats(image, pred_mask[i]*255, 'MRI-FLAIR-Brain', text_prompt[i])\n",
        "    print(f'{text_prompt[i]} P-value: {adj_pvalue}')"
      ]
    },
    {
      "cell_type": "markdown",
      "metadata": {
        "id": "3reZ69QQMpZo"
      },
      "source": [
        "### CT Example"
      ]
    },
    {
      "cell_type": "code",
      "execution_count": null,
      "metadata": {
        "id": "cR8ZhqZPMpZo"
      },
      "outputs": [],
      "source": [
        "image_path = 'examples/amos_0328.nii.gz'\n",
        "text_prompt = ['kidney', 'liver', 'pancreas']\n",
        "slide_idx = 68\n",
        "\n",
        "image, pred_mask =  inference_nifti(image_path, text_prompt, is_CT=True, slice_idx=slide_idx, site='abdomen', rotate=1)\n",
        "\n",
        "for i in range(len(pred_mask)):\n",
        "    adj_pvalue = check_mask_stats(image, pred_mask[i]*255, 'CT-Abdomen', text_prompt[i])\n",
        "    print(f'{text_prompt[i]} P-value: {adj_pvalue}')"
      ]
    }
  ],
  "metadata": {
    "kernel_info": {
      "name": "biomedparse"
    },
    "kernelspec": {
      "display_name": "Python 3",
      "name": "python3"
    },
    "language_info": {
      "codemirror_mode": {
        "name": "ipython",
        "version": 3
      },
      "file_extension": ".py",
      "mimetype": "text/x-python",
      "name": "python",
      "nbconvert_exporter": "python",
      "pygments_lexer": "ipython3",
      "version": "3.9.19"
    },
    "microsoft": {
      "host": {
        "AzureML": {
          "notebookHasBeenCompleted": true
        }
      },
      "ms_spell_check": {
        "ms_spell_check_language": "en"
      }
    },
    "nteract": {
      "version": "nteract-front-end@1.0.0"
    },
    "colab": {
      "provenance": []
    }
  },
  "nbformat": 4,
  "nbformat_minor": 0
}