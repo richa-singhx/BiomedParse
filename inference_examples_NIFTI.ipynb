{
  "cells": [
    {
      "cell_type": "code",
      "source": [
        "# install dependencies and download dataset\n",
        "!git clone https://github.com/microsoft/BiomedParse\n",
        "!pip install -r BiomedParse/assets/requirements/requirements.txt"
      ],
      "metadata": {
        "id": "GVI4415cO4cW",
        "outputId": "54d120b6-1910-41d0-e577-9564c7da6d96",
        "colab": {
          "base_uri": "https://localhost:8080/"
        }
      },
      "execution_count": 1,
      "outputs": [
        {
          "output_type": "stream",
          "name": "stdout",
          "text": [
            "fatal: destination path 'BiomedParse' already exists and is not an empty directory.\n",
            "Collecting git+https://github.com/MaureenZOU/detectron2-xyz.git (from -r BiomedParse/assets/requirements/requirements.txt (line 33))\n",
            "  Cloning https://github.com/MaureenZOU/detectron2-xyz.git to /tmp/pip-req-build-0uq0cgtz\n",
            "  Running command git clone --filter=blob:none --quiet https://github.com/MaureenZOU/detectron2-xyz.git /tmp/pip-req-build-0uq0cgtz\n",
            "  Resolved https://github.com/MaureenZOU/detectron2-xyz.git to commit 42121d75e10d9f858f3a91b6a39f5722c02868f0\n",
            "  Preparing metadata (setup.py) ... \u001b[?25l\u001b[?25hdone\n",
            "Collecting pillow==9.4.0 (from -r BiomedParse/assets/requirements/requirements.txt (line 1))\n",
            "  Using cached Pillow-9.4.0-cp311-cp311-manylinux_2_28_x86_64.whl.metadata (9.3 kB)\n",
            "Collecting opencv-python==4.8.1.78 (from -r BiomedParse/assets/requirements/requirements.txt (line 2))\n",
            "  Using cached opencv_python-4.8.1.78-cp37-abi3-manylinux_2_17_x86_64.manylinux2014_x86_64.whl.metadata (19 kB)\n",
            "Collecting pyyaml==6.0.1 (from -r BiomedParse/assets/requirements/requirements.txt (line 3))\n",
            "  Using cached PyYAML-6.0.1-cp311-cp311-manylinux_2_17_x86_64.manylinux2014_x86_64.whl.metadata (2.1 kB)\n",
            "Collecting json_tricks==3.17.3 (from -r BiomedParse/assets/requirements/requirements.txt (line 4))\n",
            "  Using cached json_tricks-3.17.3-py2.py3-none-any.whl.metadata (16 kB)\n",
            "Collecting yacs==0.1.8 (from -r BiomedParse/assets/requirements/requirements.txt (line 5))\n",
            "  Using cached yacs-0.1.8-py3-none-any.whl.metadata (639 bytes)\n",
            "Collecting scikit-learn==1.3.1 (from -r BiomedParse/assets/requirements/requirements.txt (line 6))\n",
            "  Using cached scikit_learn-1.3.1-cp311-cp311-manylinux_2_17_x86_64.manylinux2014_x86_64.whl.metadata (11 kB)\n",
            "Collecting pandas==2.0.3 (from -r BiomedParse/assets/requirements/requirements.txt (line 7))\n",
            "  Using cached pandas-2.0.3-cp311-cp311-manylinux_2_17_x86_64.manylinux2014_x86_64.whl.metadata (18 kB)\n",
            "Collecting timm==0.4.12 (from -r BiomedParse/assets/requirements/requirements.txt (line 8))\n",
            "  Using cached timm-0.4.12-py3-none-any.whl.metadata (30 kB)\n",
            "Collecting numpy==1.26.4 (from -r BiomedParse/assets/requirements/requirements.txt (line 9))\n",
            "  Using cached numpy-1.26.4-cp311-cp311-manylinux_2_17_x86_64.manylinux2014_x86_64.whl.metadata (61 kB)\n",
            "Collecting einops==0.8.0 (from -r BiomedParse/assets/requirements/requirements.txt (line 10))\n",
            "  Using cached einops-0.8.0-py3-none-any.whl.metadata (12 kB)\n",
            "Collecting fvcore==0.1.5.post20221221 (from -r BiomedParse/assets/requirements/requirements.txt (line 11))\n",
            "  Using cached fvcore-0.1.5.post20221221.tar.gz (50 kB)\n",
            "  Preparing metadata (setup.py) ... \u001b[?25l\u001b[?25hdone\n",
            "Collecting transformers==4.34.0 (from -r BiomedParse/assets/requirements/requirements.txt (line 12))\n",
            "  Using cached transformers-4.34.0-py3-none-any.whl.metadata (121 kB)\n",
            "Collecting sentencepiece==0.1.99 (from -r BiomedParse/assets/requirements/requirements.txt (line 13))\n",
            "  Using cached sentencepiece-0.1.99-cp311-cp311-manylinux_2_17_x86_64.manylinux2014_x86_64.whl.metadata (7.7 kB)\n",
            "Collecting ftfy==6.1.1 (from -r BiomedParse/assets/requirements/requirements.txt (line 14))\n",
            "  Using cached ftfy-6.1.1-py3-none-any.whl.metadata (6.1 kB)\n",
            "Collecting regex==2023.10.3 (from -r BiomedParse/assets/requirements/requirements.txt (line 15))\n",
            "  Using cached regex-2023.10.3-cp311-cp311-manylinux_2_17_x86_64.manylinux2014_x86_64.whl.metadata (40 kB)\n",
            "Collecting nltk==3.8.1 (from -r BiomedParse/assets/requirements/requirements.txt (line 16))\n",
            "  Using cached nltk-3.8.1-py3-none-any.whl.metadata (2.8 kB)\n",
            "Collecting mpi4py==3.1.5 (from -r BiomedParse/assets/requirements/requirements.txt (line 17))\n",
            "  Using cached mpi4py-3.1.5.tar.gz (2.5 MB)\n",
            "  Installing build dependencies ... \u001b[?25l\u001b[?25hdone\n",
            "  Getting requirements to build wheel ... \u001b[?25l\u001b[?25hdone\n",
            "  Preparing metadata (pyproject.toml) ... \u001b[?25l\u001b[?25hdone\n",
            "Collecting vision-datasets==0.2.2 (from -r BiomedParse/assets/requirements/requirements.txt (line 18))\n",
            "  Using cached vision_datasets-0.2.2-py3-none-any.whl.metadata (14 kB)\n",
            "Collecting cython==3.0.2 (from -r BiomedParse/assets/requirements/requirements.txt (line 19))\n",
            "  Using cached Cython-3.0.2-cp311-cp311-manylinux_2_17_x86_64.manylinux2014_x86_64.whl.metadata (3.1 kB)\n",
            "Collecting pycocotools==2.0.7 (from -r BiomedParse/assets/requirements/requirements.txt (line 20))\n",
            "  Using cached pycocotools-2.0.7-cp311-cp311-manylinux_2_17_x86_64.manylinux2014_x86_64.whl.metadata (1.1 kB)\n",
            "Collecting diffdist==0.1 (from -r BiomedParse/assets/requirements/requirements.txt (line 21))\n",
            "  Using cached diffdist-0.1.tar.gz (4.6 kB)\n",
            "  Preparing metadata (setup.py) ... \u001b[?25l\u001b[?25hdone\n",
            "Collecting scikit-image==0.21.0 (from -r BiomedParse/assets/requirements/requirements.txt (line 25))\n",
            "  Using cached scikit_image-0.21.0-cp311-cp311-manylinux_2_17_x86_64.manylinux2014_x86_64.whl.metadata (14 kB)\n",
            "Collecting mup==1.0.0 (from -r BiomedParse/assets/requirements/requirements.txt (line 26))\n",
            "  Using cached mup-1.0.0.tar.gz (28 kB)\n",
            "  Preparing metadata (setup.py) ... \u001b[?25l\u001b[?25hdone\n",
            "Collecting accelerate==0.23.0 (from -r BiomedParse/assets/requirements/requirements.txt (line 27))\n",
            "  Using cached accelerate-0.23.0-py3-none-any.whl.metadata (18 kB)\n",
            "Collecting kornia==0.7.0 (from -r BiomedParse/assets/requirements/requirements.txt (line 28))\n",
            "  Using cached kornia-0.7.0-py2.py3-none-any.whl.metadata (12 kB)\n",
            "Collecting deepspeed==0.10.3 (from -r BiomedParse/assets/requirements/requirements.txt (line 29))\n",
            "  Using cached deepspeed-0.10.3.tar.gz (867 kB)\n",
            "  \u001b[1;31merror\u001b[0m: \u001b[1msubprocess-exited-with-error\u001b[0m\n",
            "  \n",
            "  \u001b[31m×\u001b[0m \u001b[32mpython setup.py egg_info\u001b[0m did not run successfully.\n",
            "  \u001b[31m│\u001b[0m exit code: \u001b[1;36m1\u001b[0m\n",
            "  \u001b[31m╰─>\u001b[0m See above for output.\n",
            "  \n",
            "  \u001b[1;35mnote\u001b[0m: This error originates from a subprocess, and is likely not a problem with pip.\n",
            "  Preparing metadata (setup.py) ... \u001b[?25l\u001b[?25herror\n",
            "\u001b[1;31merror\u001b[0m: \u001b[1mmetadata-generation-failed\u001b[0m\n",
            "\n",
            "\u001b[31m×\u001b[0m Encountered error while generating package metadata.\n",
            "\u001b[31m╰─>\u001b[0m See above for output.\n",
            "\n",
            "\u001b[1;35mnote\u001b[0m: This is an issue with the package mentioned above, not pip.\n",
            "\u001b[1;36mhint\u001b[0m: See above for details.\n"
          ]
        }
      ]
    },
    {
      "cell_type": "code",
      "source": [
        "import os\n",
        "os.chdir('/content/BiomedParse')\n",
        "print(os.getcwd())"
      ],
      "metadata": {
        "id": "spgO6AzORNsI",
        "outputId": "7f90295e-0621-4697-a1f5-fe351c38473a",
        "colab": {
          "base_uri": "https://localhost:8080/"
        }
      },
      "execution_count": 1,
      "outputs": [
        {
          "output_type": "stream",
          "name": "stdout",
          "text": [
            "/content/BiomedParse\n"
          ]
        }
      ]
    },
    {
      "cell_type": "code",
      "source": [
        "!pip install \"git+https://github.com/facebookresearch/detectron2.git@v0.5#egg=detectron2\""
      ],
      "metadata": {
        "id": "UOlTX0bLR80T",
        "outputId": "429e94e8-ad1b-47d2-cda7-c79a63dd9dfd",
        "colab": {
          "base_uri": "https://localhost:8080/"
        }
      },
      "execution_count": 6,
      "outputs": [
        {
          "output_type": "stream",
          "name": "stdout",
          "text": [
            "Collecting detectron2\n",
            "  Cloning https://github.com/facebookresearch/detectron2.git (to revision v0.5) to /tmp/pip-install-889ubnil/detectron2_a1c24d36c20e4542b5e85f48ef619213\n",
            "  Running command git clone --filter=blob:none --quiet https://github.com/facebookresearch/detectron2.git /tmp/pip-install-889ubnil/detectron2_a1c24d36c20e4542b5e85f48ef619213\n",
            "  Running command git checkout -q 82a57ce0b70057685962b352535147d9a8118578\n",
            "  Resolved https://github.com/facebookresearch/detectron2.git to commit 82a57ce0b70057685962b352535147d9a8118578\n",
            "  Preparing metadata (setup.py) ... \u001b[?25l\u001b[?25hdone\n",
            "Requirement already satisfied: Pillow>=7.1 in /usr/local/lib/python3.11/dist-packages (from detectron2) (11.3.0)\n",
            "Requirement already satisfied: matplotlib in /usr/local/lib/python3.11/dist-packages (from detectron2) (3.10.0)\n",
            "Requirement already satisfied: pycocotools>=2.0.2 in /usr/local/lib/python3.11/dist-packages (from detectron2) (2.0.10)\n",
            "Requirement already satisfied: termcolor>=1.1 in /usr/local/lib/python3.11/dist-packages (from detectron2) (3.1.0)\n",
            "Collecting yacs>=0.1.6 (from detectron2)\n",
            "  Using cached yacs-0.1.8-py3-none-any.whl.metadata (639 bytes)\n",
            "Requirement already satisfied: tabulate in /usr/local/lib/python3.11/dist-packages (from detectron2) (0.9.0)\n",
            "Requirement already satisfied: cloudpickle in /usr/local/lib/python3.11/dist-packages (from detectron2) (3.1.1)\n",
            "Requirement already satisfied: tqdm>4.29.0 in /usr/local/lib/python3.11/dist-packages (from detectron2) (4.67.1)\n",
            "Requirement already satisfied: tensorboard in /usr/local/lib/python3.11/dist-packages (from detectron2) (2.19.0)\n",
            "Collecting fvcore<0.1.6,>=0.1.5 (from detectron2)\n",
            "  Using cached fvcore-0.1.5.post20221221.tar.gz (50 kB)\n",
            "  Preparing metadata (setup.py) ... \u001b[?25l\u001b[?25hdone\n",
            "Collecting iopath<0.1.10,>=0.1.7 (from detectron2)\n",
            "  Downloading iopath-0.1.9-py3-none-any.whl.metadata (370 bytes)\n",
            "Requirement already satisfied: future in /usr/local/lib/python3.11/dist-packages (from detectron2) (1.0.0)\n",
            "Requirement already satisfied: pydot in /usr/local/lib/python3.11/dist-packages (from detectron2) (3.0.4)\n",
            "Requirement already satisfied: omegaconf>=2.1 in /usr/local/lib/python3.11/dist-packages (from detectron2) (2.3.0)\n",
            "Collecting hydra-core>=1.1 (from detectron2)\n",
            "  Downloading hydra_core-1.3.2-py3-none-any.whl.metadata (5.5 kB)\n",
            "Collecting black==21.4b2 (from detectron2)\n",
            "  Downloading black-21.4b2-py3-none-any.whl.metadata (52 kB)\n",
            "\u001b[2K     \u001b[90m━━━━━━━━━━━━━━━━━━━━━━━━━━━━━━━━━━━━━━━━\u001b[0m \u001b[32m52.5/52.5 kB\u001b[0m \u001b[31m3.1 MB/s\u001b[0m eta \u001b[36m0:00:00\u001b[0m\n",
            "\u001b[?25hRequirement already satisfied: click>=7.1.2 in /usr/local/lib/python3.11/dist-packages (from black==21.4b2->detectron2) (8.2.1)\n",
            "Collecting appdirs (from black==21.4b2->detectron2)\n",
            "  Downloading appdirs-1.4.4-py2.py3-none-any.whl.metadata (9.0 kB)\n",
            "Requirement already satisfied: toml>=0.10.1 in /usr/local/lib/python3.11/dist-packages (from black==21.4b2->detectron2) (0.10.2)\n",
            "Requirement already satisfied: regex>=2020.1.8 in /usr/local/lib/python3.11/dist-packages (from black==21.4b2->detectron2) (2024.11.6)\n",
            "Collecting pathspec<1,>=0.8.1 (from black==21.4b2->detectron2)\n",
            "  Downloading pathspec-0.12.1-py3-none-any.whl.metadata (21 kB)\n",
            "Collecting mypy-extensions>=0.4.3 (from black==21.4b2->detectron2)\n",
            "  Downloading mypy_extensions-1.1.0-py3-none-any.whl.metadata (1.1 kB)\n",
            "Requirement already satisfied: numpy in /usr/local/lib/python3.11/dist-packages (from fvcore<0.1.6,>=0.1.5->detectron2) (2.0.2)\n",
            "Requirement already satisfied: pyyaml>=5.1 in /usr/local/lib/python3.11/dist-packages (from fvcore<0.1.6,>=0.1.5->detectron2) (6.0.2)\n",
            "Requirement already satisfied: antlr4-python3-runtime==4.9.* in /usr/local/lib/python3.11/dist-packages (from hydra-core>=1.1->detectron2) (4.9.3)\n",
            "Requirement already satisfied: packaging in /usr/local/lib/python3.11/dist-packages (from hydra-core>=1.1->detectron2) (25.0)\n",
            "Collecting portalocker (from iopath<0.1.10,>=0.1.7->detectron2)\n",
            "  Downloading portalocker-3.2.0-py3-none-any.whl.metadata (8.7 kB)\n",
            "Requirement already satisfied: contourpy>=1.0.1 in /usr/local/lib/python3.11/dist-packages (from matplotlib->detectron2) (1.3.3)\n",
            "Requirement already satisfied: cycler>=0.10 in /usr/local/lib/python3.11/dist-packages (from matplotlib->detectron2) (0.12.1)\n",
            "Requirement already satisfied: fonttools>=4.22.0 in /usr/local/lib/python3.11/dist-packages (from matplotlib->detectron2) (4.59.0)\n",
            "Requirement already satisfied: kiwisolver>=1.3.1 in /usr/local/lib/python3.11/dist-packages (from matplotlib->detectron2) (1.4.8)\n",
            "Requirement already satisfied: pyparsing>=2.3.1 in /usr/local/lib/python3.11/dist-packages (from matplotlib->detectron2) (3.2.3)\n",
            "Requirement already satisfied: python-dateutil>=2.7 in /usr/local/lib/python3.11/dist-packages (from matplotlib->detectron2) (2.9.0.post0)\n",
            "Requirement already satisfied: absl-py>=0.4 in /usr/local/lib/python3.11/dist-packages (from tensorboard->detectron2) (1.4.0)\n",
            "Requirement already satisfied: grpcio>=1.48.2 in /usr/local/lib/python3.11/dist-packages (from tensorboard->detectron2) (1.74.0)\n",
            "Requirement already satisfied: markdown>=2.6.8 in /usr/local/lib/python3.11/dist-packages (from tensorboard->detectron2) (3.8.2)\n",
            "Requirement already satisfied: protobuf!=4.24.0,>=3.19.6 in /usr/local/lib/python3.11/dist-packages (from tensorboard->detectron2) (5.29.5)\n",
            "Requirement already satisfied: setuptools>=41.0.0 in /usr/local/lib/python3.11/dist-packages (from tensorboard->detectron2) (75.2.0)\n",
            "Requirement already satisfied: six>1.9 in /usr/local/lib/python3.11/dist-packages (from tensorboard->detectron2) (1.17.0)\n",
            "Requirement already satisfied: tensorboard-data-server<0.8.0,>=0.7.0 in /usr/local/lib/python3.11/dist-packages (from tensorboard->detectron2) (0.7.2)\n",
            "Requirement already satisfied: werkzeug>=1.0.1 in /usr/local/lib/python3.11/dist-packages (from tensorboard->detectron2) (3.1.3)\n",
            "Requirement already satisfied: MarkupSafe>=2.1.1 in /usr/local/lib/python3.11/dist-packages (from werkzeug>=1.0.1->tensorboard->detectron2) (3.0.2)\n",
            "Downloading black-21.4b2-py3-none-any.whl (130 kB)\n",
            "\u001b[2K   \u001b[90m━━━━━━━━━━━━━━━━━━━━━━━━━━━━━━━━━━━━━━━━\u001b[0m \u001b[32m131.0/131.0 kB\u001b[0m \u001b[31m7.4 MB/s\u001b[0m eta \u001b[36m0:00:00\u001b[0m\n",
            "\u001b[?25hDownloading hydra_core-1.3.2-py3-none-any.whl (154 kB)\n",
            "\u001b[2K   \u001b[90m━━━━━━━━━━━━━━━━━━━━━━━━━━━━━━━━━━━━━━━━\u001b[0m \u001b[32m154.5/154.5 kB\u001b[0m \u001b[31m16.2 MB/s\u001b[0m eta \u001b[36m0:00:00\u001b[0m\n",
            "\u001b[?25hDownloading iopath-0.1.9-py3-none-any.whl (27 kB)\n",
            "Downloading yacs-0.1.8-py3-none-any.whl (14 kB)\n",
            "Downloading mypy_extensions-1.1.0-py3-none-any.whl (5.0 kB)\n",
            "Downloading pathspec-0.12.1-py3-none-any.whl (31 kB)\n",
            "Downloading appdirs-1.4.4-py2.py3-none-any.whl (9.6 kB)\n",
            "Downloading portalocker-3.2.0-py3-none-any.whl (22 kB)\n",
            "Building wheels for collected packages: detectron2, fvcore\n",
            "  Building wheel for detectron2 (setup.py) ... \u001b[?25l\u001b[?25hdone\n",
            "  Created wheel for detectron2: filename=detectron2-0.5-cp311-cp311-linux_x86_64.whl size=6017699 sha256=e7e53a6e71537ca8e82d90478a468b3cacafc25cb13a4e9d52728d5a2ab2e699\n",
            "  Stored in directory: /tmp/pip-ephem-wheel-cache-53pd4kij/wheels/5c/e8/f5/1c44b2d0957768c57ad3993bffb4f65408c2da578ad5b2fff1\n",
            "  Building wheel for fvcore (setup.py) ... \u001b[?25l\u001b[?25hdone\n",
            "  Created wheel for fvcore: filename=fvcore-0.1.5.post20221221-py3-none-any.whl size=61397 sha256=055c1c2e84e1fe69724be48bd099a2a6ac7111550c20bbfa32205d3625b3f539\n",
            "  Stored in directory: /root/.cache/pip/wheels/65/71/95/3b8fde5c65c6e4a806e0867c1651dcc71a1cb2f3430e8f355f\n",
            "Successfully built detectron2 fvcore\n",
            "Installing collected packages: appdirs, yacs, portalocker, pathspec, mypy-extensions, iopath, hydra-core, black, fvcore, detectron2\n",
            "Successfully installed appdirs-1.4.4 black-21.4b2 detectron2-0.5 fvcore-0.1.5.post20221221 hydra-core-1.3.2 iopath-0.1.9 mypy-extensions-1.1.0 pathspec-0.12.1 portalocker-3.2.0 yacs-0.1.8\n"
          ]
        }
      ]
    },
    {
      "cell_type": "code",
      "execution_count": 7,
      "metadata": {
        "id": "4hSg8lMIMpZi",
        "outputId": "5cf758e0-772e-4b71-eb73-8bbe8e68efd3",
        "colab": {
          "base_uri": "https://localhost:8080/",
          "height": 356
        }
      },
      "outputs": [
        {
          "output_type": "error",
          "ename": "AttributeError",
          "evalue": "module 'PIL.Image' has no attribute 'LINEAR'",
          "traceback": [
            "\u001b[0;31m---------------------------------------------------------------------------\u001b[0m",
            "\u001b[0;31mAttributeError\u001b[0m                            Traceback (most recent call last)",
            "\u001b[0;32m/tmp/ipython-input-1233352379.py\u001b[0m in \u001b[0;36m<cell line: 0>\u001b[0;34m()\u001b[0m\n\u001b[1;32m      2\u001b[0m \u001b[0;32mimport\u001b[0m \u001b[0mtorch\u001b[0m\u001b[0;34m\u001b[0m\u001b[0;34m\u001b[0m\u001b[0m\n\u001b[1;32m      3\u001b[0m \u001b[0;32mimport\u001b[0m \u001b[0mnumpy\u001b[0m \u001b[0;32mas\u001b[0m \u001b[0mnp\u001b[0m\u001b[0;34m\u001b[0m\u001b[0;34m\u001b[0m\u001b[0m\n\u001b[0;32m----> 4\u001b[0;31m \u001b[0;32mfrom\u001b[0m \u001b[0mmodeling\u001b[0m\u001b[0;34m.\u001b[0m\u001b[0mBaseModel\u001b[0m \u001b[0;32mimport\u001b[0m \u001b[0mBaseModel\u001b[0m\u001b[0;34m\u001b[0m\u001b[0;34m\u001b[0m\u001b[0m\n\u001b[0m\u001b[1;32m      5\u001b[0m \u001b[0;32mfrom\u001b[0m \u001b[0mmodeling\u001b[0m \u001b[0;32mimport\u001b[0m \u001b[0mbuild_model\u001b[0m\u001b[0;34m\u001b[0m\u001b[0;34m\u001b[0m\u001b[0m\n\u001b[1;32m      6\u001b[0m \u001b[0;32mfrom\u001b[0m \u001b[0mutilities\u001b[0m\u001b[0;34m.\u001b[0m\u001b[0mdistributed\u001b[0m \u001b[0;32mimport\u001b[0m \u001b[0minit_distributed\u001b[0m\u001b[0;34m\u001b[0m\u001b[0;34m\u001b[0m\u001b[0m\n",
            "\u001b[0;32m/content/BiomedParse/modeling/__init__.py\u001b[0m in \u001b[0;36m<module>\u001b[0;34m\u001b[0m\n\u001b[0;32m----> 1\u001b[0;31m \u001b[0;32mfrom\u001b[0m \u001b[0;34m.\u001b[0m\u001b[0marchitectures\u001b[0m \u001b[0;32mimport\u001b[0m \u001b[0mbuild_model\u001b[0m\u001b[0;34m\u001b[0m\u001b[0;34m\u001b[0m\u001b[0m\n\u001b[0m",
            "\u001b[0;32m/content/BiomedParse/modeling/architectures/__init__.py\u001b[0m in \u001b[0;36m<module>\u001b[0;34m\u001b[0m\n\u001b[0;32m----> 1\u001b[0;31m \u001b[0;32mfrom\u001b[0m \u001b[0;34m.\u001b[0m\u001b[0mxdecoder_model\u001b[0m \u001b[0;32mimport\u001b[0m \u001b[0;34m*\u001b[0m\u001b[0;34m\u001b[0m\u001b[0;34m\u001b[0m\u001b[0m\n\u001b[0m\u001b[1;32m      2\u001b[0m \u001b[0;32mfrom\u001b[0m \u001b[0;34m.\u001b[0m\u001b[0mseem_model_v0\u001b[0m \u001b[0;32mimport\u001b[0m \u001b[0;34m*\u001b[0m\u001b[0;34m\u001b[0m\u001b[0;34m\u001b[0m\u001b[0m\n\u001b[1;32m      3\u001b[0m \u001b[0;32mfrom\u001b[0m \u001b[0;34m.\u001b[0m\u001b[0mseem_model_v1\u001b[0m \u001b[0;32mimport\u001b[0m \u001b[0;34m*\u001b[0m\u001b[0;34m\u001b[0m\u001b[0;34m\u001b[0m\u001b[0m\n\u001b[1;32m      4\u001b[0m \u001b[0;32mfrom\u001b[0m \u001b[0;34m.\u001b[0m\u001b[0mseem_model_demo\u001b[0m \u001b[0;32mimport\u001b[0m \u001b[0;34m*\u001b[0m\u001b[0;34m\u001b[0m\u001b[0;34m\u001b[0m\u001b[0m\n\u001b[1;32m      5\u001b[0m \u001b[0;32mfrom\u001b[0m \u001b[0;34m.\u001b[0m\u001b[0mbuild\u001b[0m \u001b[0;32mimport\u001b[0m \u001b[0mbuild_model\u001b[0m\u001b[0;34m\u001b[0m\u001b[0;34m\u001b[0m\u001b[0m\n",
            "\u001b[0;32m/content/BiomedParse/modeling/architectures/xdecoder_model.py\u001b[0m in \u001b[0;36m<module>\u001b[0;34m\u001b[0m\n\u001b[1;32m     18\u001b[0m \u001b[0;32mfrom\u001b[0m \u001b[0mdetectron2\u001b[0m\u001b[0;34m.\u001b[0m\u001b[0mstructures\u001b[0m \u001b[0;32mimport\u001b[0m \u001b[0mBoxes\u001b[0m\u001b[0;34m,\u001b[0m \u001b[0mImageList\u001b[0m\u001b[0;34m,\u001b[0m \u001b[0mInstances\u001b[0m\u001b[0;34m,\u001b[0m \u001b[0mBitMasks\u001b[0m\u001b[0;34m,\u001b[0m \u001b[0mBoxMode\u001b[0m\u001b[0;34m\u001b[0m\u001b[0;34m\u001b[0m\u001b[0m\n\u001b[1;32m     19\u001b[0m \u001b[0;32mfrom\u001b[0m \u001b[0mdetectron2\u001b[0m\u001b[0;34m.\u001b[0m\u001b[0mutils\u001b[0m\u001b[0;34m.\u001b[0m\u001b[0mmemory\u001b[0m \u001b[0;32mimport\u001b[0m \u001b[0mretry_if_cuda_oom\u001b[0m\u001b[0;34m\u001b[0m\u001b[0;34m\u001b[0m\u001b[0m\n\u001b[0;32m---> 20\u001b[0;31m \u001b[0;32mfrom\u001b[0m \u001b[0mdetectron2\u001b[0m\u001b[0;34m.\u001b[0m\u001b[0mdata\u001b[0m \u001b[0;32mimport\u001b[0m \u001b[0mMetadataCatalog\u001b[0m\u001b[0;34m\u001b[0m\u001b[0;34m\u001b[0m\u001b[0m\n\u001b[0m\u001b[1;32m     21\u001b[0m \u001b[0;34m\u001b[0m\u001b[0m\n\u001b[1;32m     22\u001b[0m \u001b[0;32mfrom\u001b[0m \u001b[0;34m.\u001b[0m\u001b[0mbuild\u001b[0m \u001b[0;32mimport\u001b[0m \u001b[0mregister_model\u001b[0m\u001b[0;34m\u001b[0m\u001b[0;34m\u001b[0m\u001b[0m\n",
            "\u001b[0;32m/usr/local/lib/python3.11/dist-packages/detectron2/data/__init__.py\u001b[0m in \u001b[0;36m<module>\u001b[0;34m\u001b[0m\n\u001b[1;32m      1\u001b[0m \u001b[0;31m# Copyright (c) Facebook, Inc. and its affiliates.\u001b[0m\u001b[0;34m\u001b[0m\u001b[0;34m\u001b[0m\u001b[0m\n\u001b[0;32m----> 2\u001b[0;31m \u001b[0;32mfrom\u001b[0m \u001b[0;34m.\u001b[0m \u001b[0;32mimport\u001b[0m \u001b[0mtransforms\u001b[0m  \u001b[0;31m# isort:skip\u001b[0m\u001b[0;34m\u001b[0m\u001b[0;34m\u001b[0m\u001b[0m\n\u001b[0m\u001b[1;32m      3\u001b[0m \u001b[0;34m\u001b[0m\u001b[0m\n\u001b[1;32m      4\u001b[0m from .build import (\n\u001b[1;32m      5\u001b[0m     \u001b[0mbuild_batch_data_loader\u001b[0m\u001b[0;34m,\u001b[0m\u001b[0;34m\u001b[0m\u001b[0;34m\u001b[0m\u001b[0m\n",
            "\u001b[0;32m/usr/local/lib/python3.11/dist-packages/detectron2/data/transforms/__init__.py\u001b[0m in \u001b[0;36m<module>\u001b[0;34m\u001b[0m\n\u001b[1;32m      2\u001b[0m \u001b[0;32mfrom\u001b[0m \u001b[0mfvcore\u001b[0m\u001b[0;34m.\u001b[0m\u001b[0mtransforms\u001b[0m\u001b[0;34m.\u001b[0m\u001b[0mtransform\u001b[0m \u001b[0;32mimport\u001b[0m \u001b[0mTransform\u001b[0m\u001b[0;34m,\u001b[0m \u001b[0mTransformList\u001b[0m  \u001b[0;31m# order them first\u001b[0m\u001b[0;34m\u001b[0m\u001b[0;34m\u001b[0m\u001b[0m\n\u001b[1;32m      3\u001b[0m \u001b[0;32mfrom\u001b[0m \u001b[0mfvcore\u001b[0m\u001b[0;34m.\u001b[0m\u001b[0mtransforms\u001b[0m\u001b[0;34m.\u001b[0m\u001b[0mtransform\u001b[0m \u001b[0;32mimport\u001b[0m \u001b[0;34m*\u001b[0m\u001b[0;34m\u001b[0m\u001b[0;34m\u001b[0m\u001b[0m\n\u001b[0;32m----> 4\u001b[0;31m \u001b[0;32mfrom\u001b[0m \u001b[0;34m.\u001b[0m\u001b[0mtransform\u001b[0m \u001b[0;32mimport\u001b[0m \u001b[0;34m*\u001b[0m\u001b[0;34m\u001b[0m\u001b[0;34m\u001b[0m\u001b[0m\n\u001b[0m\u001b[1;32m      5\u001b[0m \u001b[0;32mfrom\u001b[0m \u001b[0;34m.\u001b[0m\u001b[0maugmentation\u001b[0m \u001b[0;32mimport\u001b[0m \u001b[0;34m*\u001b[0m\u001b[0;34m\u001b[0m\u001b[0;34m\u001b[0m\u001b[0m\n\u001b[1;32m      6\u001b[0m \u001b[0;32mfrom\u001b[0m \u001b[0;34m.\u001b[0m\u001b[0maugmentation_impl\u001b[0m \u001b[0;32mimport\u001b[0m \u001b[0;34m*\u001b[0m\u001b[0;34m\u001b[0m\u001b[0;34m\u001b[0m\u001b[0m\n",
            "\u001b[0;32m/usr/local/lib/python3.11/dist-packages/detectron2/data/transforms/transform.py\u001b[0m in \u001b[0;36m<module>\u001b[0;34m\u001b[0m\n\u001b[1;32m     34\u001b[0m \u001b[0;34m\u001b[0m\u001b[0m\n\u001b[1;32m     35\u001b[0m \u001b[0;34m\u001b[0m\u001b[0m\n\u001b[0;32m---> 36\u001b[0;31m \u001b[0;32mclass\u001b[0m \u001b[0mExtentTransform\u001b[0m\u001b[0;34m(\u001b[0m\u001b[0mTransform\u001b[0m\u001b[0;34m)\u001b[0m\u001b[0;34m:\u001b[0m\u001b[0;34m\u001b[0m\u001b[0;34m\u001b[0m\u001b[0m\n\u001b[0m\u001b[1;32m     37\u001b[0m     \"\"\"\n\u001b[1;32m     38\u001b[0m     \u001b[0mExtracts\u001b[0m \u001b[0ma\u001b[0m \u001b[0msubregion\u001b[0m \u001b[0;32mfrom\u001b[0m \u001b[0mthe\u001b[0m \u001b[0msource\u001b[0m \u001b[0mimage\u001b[0m \u001b[0;32mand\u001b[0m \u001b[0mscales\u001b[0m \u001b[0mit\u001b[0m \u001b[0mto\u001b[0m \u001b[0mthe\u001b[0m \u001b[0moutput\u001b[0m \u001b[0msize\u001b[0m\u001b[0;34m.\u001b[0m\u001b[0;34m\u001b[0m\u001b[0;34m\u001b[0m\u001b[0m\n",
            "\u001b[0;32m/usr/local/lib/python3.11/dist-packages/detectron2/data/transforms/transform.py\u001b[0m in \u001b[0;36mExtentTransform\u001b[0;34m()\u001b[0m\n\u001b[1;32m     44\u001b[0m     \"\"\"\n\u001b[1;32m     45\u001b[0m \u001b[0;34m\u001b[0m\u001b[0m\n\u001b[0;32m---> 46\u001b[0;31m     \u001b[0;32mdef\u001b[0m \u001b[0m__init__\u001b[0m\u001b[0;34m(\u001b[0m\u001b[0mself\u001b[0m\u001b[0;34m,\u001b[0m \u001b[0msrc_rect\u001b[0m\u001b[0;34m,\u001b[0m \u001b[0moutput_size\u001b[0m\u001b[0;34m,\u001b[0m \u001b[0minterp\u001b[0m\u001b[0;34m=\u001b[0m\u001b[0mImage\u001b[0m\u001b[0;34m.\u001b[0m\u001b[0mLINEAR\u001b[0m\u001b[0;34m,\u001b[0m \u001b[0mfill\u001b[0m\u001b[0;34m=\u001b[0m\u001b[0;36m0\u001b[0m\u001b[0;34m)\u001b[0m\u001b[0;34m:\u001b[0m\u001b[0;34m\u001b[0m\u001b[0;34m\u001b[0m\u001b[0m\n\u001b[0m\u001b[1;32m     47\u001b[0m         \"\"\"\n\u001b[1;32m     48\u001b[0m         \u001b[0mArgs\u001b[0m\u001b[0;34m:\u001b[0m\u001b[0;34m\u001b[0m\u001b[0;34m\u001b[0m\u001b[0m\n",
            "\u001b[0;31mAttributeError\u001b[0m: module 'PIL.Image' has no attribute 'LINEAR'"
          ]
        }
      ],
      "source": [
        "from PIL import Image\n",
        "import torch\n",
        "import numpy as np\n",
        "from modeling.BaseModel import BaseModel\n",
        "from modeling import build_model\n",
        "from utilities.distributed import init_distributed\n",
        "from utilities.arguments import load_opt_from_config_files\n",
        "from utilities.constants import BIOMED_CLASSES\n",
        "\n",
        "from inference_utils.inference import interactive_infer_image\n",
        "from inference_utils.output_processing import check_mask_stats\n",
        "# P-value (adjusted) that the segmentation belongs to \"nodule\" in the CT-Chest class\n",
        "# Lower p-value indicates it is likely the segmentation not belongs to the class. Recommended threshold is 0.05"
      ]
    },
    {
      "cell_type": "code",
      "execution_count": null,
      "metadata": {
        "id": "RYG37IQOMpZk"
      },
      "outputs": [],
      "source": [
        "import huggingface_hub\n",
        "\n",
        "HF_TOKEN = 'YOUR_HUGGINGFACE_TOKEN'\n",
        "\n",
        "huggingface_hub.login(HF_TOKEN)"
      ]
    },
    {
      "cell_type": "markdown",
      "metadata": {
        "id": "AT06ylNQMpZl"
      },
      "source": [
        "### Model Setup"
      ]
    },
    {
      "cell_type": "code",
      "execution_count": null,
      "metadata": {
        "id": "tUNq8Me2MpZl"
      },
      "outputs": [],
      "source": [
        "# Build model config\n",
        "opt = load_opt_from_config_files([\"configs/biomedparse_inference.yaml\"])\n",
        "opt = init_distributed(opt)\n",
        "\n",
        "# Load model from pretrained weights\n",
        "pretrained_pth = 'hf_hub:microsoft/BiomedParse'\n",
        "\n",
        "model = BaseModel(opt, build_model(opt)).from_pretrained(pretrained_pth).eval().cuda()\n",
        "with torch.no_grad():\n",
        "    model.model.sem_seg_head.predictor.lang_encoder.get_text_embeddings(BIOMED_CLASSES + [\"background\"], is_eval=True)"
      ]
    },
    {
      "cell_type": "markdown",
      "metadata": {
        "id": "lihtLaSIMpZm"
      },
      "source": [
        "### Utility Functions"
      ]
    },
    {
      "cell_type": "code",
      "execution_count": null,
      "metadata": {
        "id": "_DXtlk9hMpZm"
      },
      "outputs": [],
      "source": [
        "def plot_segmentation_masks(original_image, segmentation_masks, texts, rotate=0):\n",
        "    ''' Plot a list of segmentation mask over an image.\n",
        "    '''\n",
        "    original_image = original_image[:, :, :3]\n",
        "    fig, ax = plt.subplots(1, len(segmentation_masks) + 1, figsize=(10, 5))\n",
        "    ax[0].imshow(np.rot90(original_image, rotate), cmap='gray')\n",
        "    ax[0].set_title('Original Image')\n",
        "    # grid off\n",
        "    for a in ax:\n",
        "        a.axis('off')\n",
        "\n",
        "    for i, mask in enumerate(segmentation_masks):\n",
        "\n",
        "        ax[i+1].set_title(texts[i])\n",
        "        mask_temp = original_image.copy()\n",
        "        mask_temp[mask > 0.5] = [255, 0, 0]\n",
        "        mask_temp[mask <= 0.5] = [0, 0, 0, ]\n",
        "        ax[i+1].imshow(np.rot90(mask_temp, rotate), alpha=0.9)\n",
        "        ax[i+1].imshow(np.rot90(original_image, rotate), cmap='gray', alpha=0.5)\n",
        "\n",
        "\n",
        "    plt.show()"
      ]
    },
    {
      "cell_type": "code",
      "execution_count": null,
      "metadata": {
        "id": "ke5bc5HnMpZm"
      },
      "outputs": [],
      "source": [
        "!pip install pydicom nibabel SimpleITK\n",
        "\n",
        "import json\n",
        "import matplotlib.pyplot as plt\n",
        "\n",
        "from inference_utils.processing_utils import read_nifti\n",
        "\n",
        "\n",
        "def inference_nifti(file_path, text_prompts, is_CT, slice_idx, site=None, HW_index=(0, 1), channel_idx=None, rotate=0):\n",
        "    image = read_nifti(file_path, is_CT, slice_idx, site=site,\n",
        "                       HW_index=HW_index, channel_idx=channel_idx)\n",
        "\n",
        "    pred_mask = interactive_infer_image(model, Image.fromarray(image), text_prompts)\n",
        "\n",
        "    # Plot feature over image\n",
        "    plot_segmentation_masks(image, pred_mask, text_prompts, rotate=rotate)\n",
        "\n",
        "    return image, pred_mask\n"
      ]
    },
    {
      "cell_type": "markdown",
      "metadata": {
        "id": "FAlHTcuSMpZm"
      },
      "source": [
        "### Ultrasound Example"
      ]
    },
    {
      "cell_type": "code",
      "execution_count": null,
      "metadata": {
        "id": "1M2gzmfHMpZn"
      },
      "outputs": [],
      "source": [
        "image_path = 'examples/patient0500_2CH_half_sequence.nii.gz'\n",
        "text_prompt = ['left heart ventricle', 'left heart atrium']\n",
        "slide_idx = 0\n",
        "\n",
        "image, pred_mask = inference_nifti(image_path, text_prompt, is_CT=False, slice_idx=slide_idx, site=None, rotate=3)\n",
        "\n",
        "for i in range(len(pred_mask)):\n",
        "    adj_pvalue = check_mask_stats(image, pred_mask[i]*255, 'Ultrasound-Cardiac', text_prompt[i])\n",
        "    print(f'{text_prompt[i]} P-value: {adj_pvalue}')"
      ]
    },
    {
      "cell_type": "markdown",
      "metadata": {
        "id": "lshULABFMpZn"
      },
      "source": [
        "### MRI Example\n",
        "#### T1-Gd"
      ]
    },
    {
      "cell_type": "code",
      "execution_count": null,
      "metadata": {
        "id": "2h8ER8W_MpZn"
      },
      "outputs": [],
      "source": [
        "image_path = 'examples/BRATS_397.nii.gz'\n",
        "text_prompt = ['tumor core', 'enhancing tumor', 'non-enhancing tumor']\n",
        "slide_idx = 89\n",
        "\n",
        "image, pred_mask =  inference_nifti(image_path, text_prompt, is_CT=False, slice_idx=slide_idx, site=None, channel_idx=2, rotate=1)\n",
        "\n",
        "for i in range(len(pred_mask)):\n",
        "    adj_pvalue = check_mask_stats(image, pred_mask[i]*255, 'MRI-T1-Gd-Brain', text_prompt[i])\n",
        "    print(f'{text_prompt[i]} P-value: {adj_pvalue}')"
      ]
    },
    {
      "cell_type": "markdown",
      "metadata": {
        "id": "LT1k700dMpZn"
      },
      "source": [
        "#### FLAIR"
      ]
    },
    {
      "cell_type": "code",
      "execution_count": null,
      "metadata": {
        "id": "fKDkXXHTMpZo"
      },
      "outputs": [],
      "source": [
        "image_path = 'examples/BRATS_422.nii.gz'\n",
        "text_prompt = ['whole tumor', 'tumor core', 'edema']\n",
        "slide_idx = 84\n",
        "\n",
        "image, pred_mask =  inference_nifti(image_path, text_prompt, is_CT=False, slice_idx=slide_idx, site=None, channel_idx=0, rotate=1)\n",
        "\n",
        "for i in range(len(pred_mask)):\n",
        "    adj_pvalue = check_mask_stats(image, pred_mask[i]*255, 'MRI-FLAIR-Brain', text_prompt[i])\n",
        "    print(f'{text_prompt[i]} P-value: {adj_pvalue}')"
      ]
    },
    {
      "cell_type": "markdown",
      "metadata": {
        "id": "3reZ69QQMpZo"
      },
      "source": [
        "### CT Example"
      ]
    },
    {
      "cell_type": "code",
      "execution_count": null,
      "metadata": {
        "id": "cR8ZhqZPMpZo"
      },
      "outputs": [],
      "source": [
        "image_path = 'examples/amos_0328.nii.gz'\n",
        "text_prompt = ['kidney', 'liver', 'pancreas']\n",
        "slide_idx = 68\n",
        "\n",
        "image, pred_mask =  inference_nifti(image_path, text_prompt, is_CT=True, slice_idx=slide_idx, site='abdomen', rotate=1)\n",
        "\n",
        "for i in range(len(pred_mask)):\n",
        "    adj_pvalue = check_mask_stats(image, pred_mask[i]*255, 'CT-Abdomen', text_prompt[i])\n",
        "    print(f'{text_prompt[i]} P-value: {adj_pvalue}')"
      ]
    }
  ],
  "metadata": {
    "kernel_info": {
      "name": "biomedparse"
    },
    "kernelspec": {
      "display_name": "Python 3",
      "name": "python3"
    },
    "language_info": {
      "codemirror_mode": {
        "name": "ipython",
        "version": 3
      },
      "file_extension": ".py",
      "mimetype": "text/x-python",
      "name": "python",
      "nbconvert_exporter": "python",
      "pygments_lexer": "ipython3",
      "version": "3.9.19"
    },
    "microsoft": {
      "host": {
        "AzureML": {
          "notebookHasBeenCompleted": true
        }
      },
      "ms_spell_check": {
        "ms_spell_check_language": "en"
      }
    },
    "nteract": {
      "version": "nteract-front-end@1.0.0"
    },
    "colab": {
      "provenance": []
    }
  },
  "nbformat": 4,
  "nbformat_minor": 0
}